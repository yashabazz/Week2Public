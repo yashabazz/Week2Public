{
 "cells": [
  {
   "cell_type": "markdown",
   "source": "# Fourier Transforms Exercises",
   "metadata": {
    "id": "Z1R737aJvYOI",
    "colab_type": "text",
    "cell_id": "00000-8c34448b-6a2e-446c-a78c-ee60890c05f3",
    "deepnote_cell_type": "markdown"
   }
  },
  {
   "cell_type": "code",
   "metadata": {
    "colab_type": "code",
    "id": "fkjBAhW0CSXP",
    "colab": {},
    "cell_id": "00001-d40d9fcc-35c0-4c63-bb67-416ff7507637",
    "deepnote_cell_type": "code"
   },
   "source": "import numpy as np\nimport matplotlib.pyplot as plt\nimport scipy\nimport matplotlib\n\n%matplotlib inline\nmatplotlib.rcParams.update({'font.size': 16,'figure.figsize':(10,6)})",
   "execution_count": null,
   "outputs": []
  },
  {
   "cell_type": "markdown",
   "source": "## Discrete Fourier Transform (DFT)\n\n$$S[m] = \\sum_{n=0}^{N-1} s[n] e^{-i 2 \\pi m \\left({\\frac{n}{N}}\\right) }$$\n\nWrite a function that computes the DFT of a 1D arraay.",
   "metadata": {
    "id": "bCsYSBYSvYOT",
    "colab_type": "text",
    "cell_id": "00002-a099232f-0bf5-448d-9185-1536ec7a9eb3",
    "deepnote_cell_type": "markdown"
   }
  },
  {
   "cell_type": "code",
   "metadata": {
    "colab_type": "code",
    "id": "I784_lF3bPGy",
    "colab": {},
    "cell_id": "00003-5562aec6-01b0-49db-a938-a22d1177c7ff",
    "deepnote_cell_type": "code"
   },
   "source": "def DFT_slow(s):\n    \"\"\"\n    Compute the discrete Fourier Transform of the 1D array x\n    :param s: (array)\n    \"\"\"\n    \n    ## YOUR CODE HERE\n",
   "execution_count": null,
   "outputs": []
  },
  {
   "cell_type": "markdown",
   "source": "If you have extra time try writing a function that also computes the DFT but by using the dot product (recall the dot product sums over the element-wise products).",
   "metadata": {
    "id": "GMYK3PjMvYOW",
    "colab_type": "text",
    "cell_id": "00004-668abbcc-3920-4b78-a650-819add08ccb3",
    "deepnote_cell_type": "markdown"
   }
  },
  {
   "cell_type": "code",
   "metadata": {
    "colab_type": "code",
    "id": "o9on_7pHbhfH",
    "colab": {},
    "cell_id": "00005-dfe99236-0b38-4164-ba64-4cc30e2c6e46",
    "deepnote_cell_type": "code"
   },
   "source": "def DFT(s):\n    \"\"\"\n    Compute the discrete Fourier Transform of the 1D array x\n    :param s: (array)\n    \"\"\"\n\n    ## YOUR CODE HERE\n    ",
   "execution_count": null,
   "outputs": []
  },
  {
   "cell_type": "markdown",
   "source": "Below is an example signal constructed to test out both your DFT functions",
   "metadata": {
    "id": "m0hpRlSiziEw",
    "colab_type": "text",
    "cell_id": "00006-d215b538-da8c-4c62-b8e7-4db27c1abce2",
    "deepnote_cell_type": "markdown"
   }
  },
  {
   "cell_type": "code",
   "metadata": {
    "colab_type": "code",
    "id": "zGgD6g8JcmEN",
    "colab": {},
    "cell_id": "00007-6c96a608-8f30-46c5-b9f0-a1b16e71d40b",
    "deepnote_cell_type": "code"
   },
   "source": "num_sec = 5         # sampling period (in seconds)\nnum_pts = 500       # samples per second\n\n\n# make a complex signal with two sinusoids to test both of your DFT calculation methods\nt = np.linspace(0, num_sec, num_pts*num_sec)\ns = np.sin(40 * 2 * np.pi * t) + 0.5 * np.sin(90 * 2 * np.pi * t)\n\nplt.figure(figsize=(15,6))\nplt.ylabel(\"Amplitude\")\nplt.xlabel(\"Time [s]\")\nplt.plot(t, s)\nplt.show()",
   "execution_count": null,
   "outputs": []
  },
  {
   "cell_type": "code",
   "metadata": {
    "id": "r2FiqwO5vYOb",
    "colab_type": "code",
    "colab": {},
    "cell_id": "00008-43f205ce-f6ac-4d10-bd51-510633d61045",
    "deepnote_cell_type": "code"
   },
   "source": "Fs = 1/(t[1] - t[0])     # sample rate\nN = s.size               # number of samples (length of signal)\n\nk = np.arange(N)         # frequncy bins\nT = N/Fs                 # frequency interval of a single bin\nfrq = k/T                # two sides frequency range\nfrq = frq[range(N//2)]   # one side frequency range (Fourier transform outputs symmetric frequencies)",
   "execution_count": null,
   "outputs": []
  },
  {
   "cell_type": "markdown",
   "source": "### Perform Fourier Transform on the signal defined above using both of your DFT functions and numpy's fft\n\nPerform a DFT on the example signal created above. As a bonus, time how long it takes for each method to run and compare them! (You can use the time module, i.e. \"import time\".)",
   "metadata": {
    "id": "Xx9Iit1VvYOd",
    "colab_type": "text",
    "cell_id": "00009-b1c658e7-6eeb-48f1-a7ed-489f5ed7f8b9",
    "deepnote_cell_type": "markdown"
   }
  },
  {
   "cell_type": "code",
   "metadata": {
    "colab_type": "code",
    "id": "Uf6K67rZIfQl",
    "colab": {},
    "cell_id": "00010-677c9fa7-b097-449b-92fc-eb8b5408d6ba",
    "deepnote_cell_type": "code"
   },
   "source": "# Perform Fourier Transform using your function DFT() and numpy's fft\n\n## YOUR CODE HERE\n",
   "execution_count": null,
   "outputs": []
  },
  {
   "cell_type": "markdown",
   "source": "## Plot the Frequency Spectrum\n\nPlot the frequency spectrum from using your DFT function(s) and numpy's fft. They should all come out the same.\n\nNote that when we plot a DFT we take the absolute value of the value returned from the fft. (The raw value returned by the fft has both real and imaginary components. When we take its absolute value we are calculating the magnitude of the sine waves that make up the original signal and ignoring their phases.) Also, we often only plot the first half of the fft. This is because when we take the fft of a completely real signal, the second half of the fft is just the complex conjugate of the first half, and thus redundant.",
   "metadata": {
    "colab_type": "text",
    "id": "NrePRrJEIRAU",
    "cell_id": "00011-db5f6573-72f6-43de-a6cb-465fbbdc2cf3",
    "deepnote_cell_type": "markdown"
   }
  },
  {
   "cell_type": "code",
   "metadata": {
    "colab_type": "code",
    "id": "oVAAlB-uE7ML",
    "colab": {},
    "cell_id": "00012-1612ec9e-0c4b-4528-87c4-545e0df4a8bc",
    "deepnote_cell_type": "code"
   },
   "source": "def plot_FT(ft, T, N, flipxy=False):\n    \"\"\"\n    plot the Fourier Transform frequency spectrum\n    :param ft: output of Fourier Transform (i.e., np.fft.fft())\n    :param T: sample resolution (in seconds)\n    :param N: total number of samples\n\n    Note: only plot the first 1/2 of what the FT returns \n    (the other half is just the complex congugate)\n\n    \"\"\"\n\n    f = \n\n\n\n    if not flipxy:\n        ## YOUR CODE HERE\n\n    else:\n    # sometimes we may want to plot on flipped x/y axis\n        ## yOUR CODE HERE\n  ",
   "execution_count": null,
   "outputs": []
  },
  {
   "cell_type": "code",
   "metadata": {
    "colab_type": "code",
    "id": "9wZ3DgaGDcmu",
    "colab": {},
    "cell_id": "00013-dad22fc6-66c0-4570-8513-6c67bff5aa83",
    "deepnote_cell_type": "code"
   },
   "source": "# plot using the above function you just defined and np.fft.fft to ensure they provide the same answer\n\nT = t[1] - t[0]  # sample rate\nN = len(s)\n\n## YOUR CODE HERE",
   "execution_count": null,
   "outputs": []
  },
  {
   "cell_type": "markdown",
   "source": "## Inverse Fourier Transform (IFT)",
   "metadata": {
    "colab_type": "text",
    "id": "H505z4qZVwWD",
    "cell_id": "00014-faa6cd07-ce2c-4c85-bf51-680750be0420",
    "deepnote_cell_type": "markdown"
   }
  },
  {
   "cell_type": "markdown",
   "source": "Let's try a more complicated signal.\n\nTry taking the FFT of the ecg signal (you can use np.fft.fft) and plot it next to the time-domain signal. Can you identify any peaks in the fft corresponding to repeating structures in the ecg? (You might need to zoom into the x-axis.)\n\nAlso, use the ifft function (np.fft.ifft) to reproduce the time-domain signal again from the fft and verify it matches the original.",
   "metadata": {
    "colab_type": "text",
    "id": "HiUGEFluVWP_",
    "cell_id": "00015-a03fccd1-1ad3-4c69-9423-7ea52396a2d1",
    "deepnote_cell_type": "markdown"
   }
  },
  {
   "cell_type": "code",
   "metadata": {
    "colab_type": "code",
    "id": "eNDPlKbVUiSx",
    "colab": {},
    "cell_id": "00016-840815ff-f477-400b-a09e-ced105898033",
    "deepnote_cell_type": "code"
   },
   "source": "y_ecg = np.loadtxt('https://raw.githubusercontent.com/BeaverWorksMedlytics2020/Data_Public/master/NotebookExampleData/Week2/ecg.txt',skiprows=4)\n\n\n\n## FFT and IFFT\n## YOUR CODE HERE\n\n# PLOT\n## YOUR CODE HERE\n",
   "execution_count": null,
   "outputs": []
  },
  {
   "cell_type": "code",
   "metadata": {
    "colab_type": "code",
    "id": "LVSYqMvekvU6",
    "colab": {},
    "cell_id": "00017-2e02d8f3-2be6-4d5b-9f3f-c270e977501d",
    "deepnote_cell_type": "code"
   },
   "source": "T = t[1]-t[0]\nN = t.size               \n\n## PLOT FREQUENCY SPECTRUM",
   "execution_count": null,
   "outputs": []
  },
  {
   "cell_type": "markdown",
   "source": "Okay, well that looks pretty good, but how well were we able to reconstruct the signal really? Check the correlation coefficient.",
   "metadata": {
    "colab_type": "text",
    "id": "y535EEPoXMq7",
    "cell_id": "00018-22e6dd4b-56c0-4871-8645-28a2beb74925",
    "deepnote_cell_type": "markdown"
   }
  },
  {
   "cell_type": "code",
   "metadata": {
    "colab_type": "code",
    "id": "qYtzNbLJUiP4",
    "colab": {},
    "cell_id": "00019-a670e7ae-a5cc-4d4b-8738-d32e090434c7",
    "deepnote_cell_type": "code"
   },
   "source": "np.corrcoef(abs(y_ecg), abs(y_ecg_recon))",
   "execution_count": null,
   "outputs": []
  },
  {
   "cell_type": "markdown",
   "source": "## Okay, but that was a relatively periodic signal...\nLet's try with a signal that doesn't look periodic at all!\n\n(i.e. compare the raw signal to its fft, and reconstruct the raw signal by performing an inverse Fourier transform)",
   "metadata": {
    "colab_type": "text",
    "id": "nuLi5WFaXW6M",
    "cell_id": "00020-bcfc52de-2eb9-46a8-8706-0777c587c02a",
    "deepnote_cell_type": "markdown"
   }
  },
  {
   "cell_type": "code",
   "metadata": {
    "colab_type": "code",
    "id": "zUFajolkUiMy",
    "colab": {},
    "cell_id": "00021-a53ee8a6-e786-475d-8c72-354f5caa0a99",
    "deepnote_cell_type": "code"
   },
   "source": "import scipy.io.wavfile\nfrom IPython.display import Audio\n\n# original signal\n(sample_rate, y_newt) = scipy.io.wavfile.read(\"./sounds/newt.wav\")\nt = np.arange(0, len(y_newt)/sample_rate, 1/sample_rate)\n\nprint('Sample rate: {} Hz'.format(sample_rate))",
   "execution_count": null,
   "outputs": []
  },
  {
   "cell_type": "code",
   "metadata": {
    "colab_type": "code",
    "id": "ettTW0KacrfM",
    "colab": {},
    "cell_id": "00022-088813f1-7d5a-4c51-8ae5-f4828803b9a5",
    "deepnote_cell_type": "code"
   },
   "source": "## PLOT FREQUENCY SPECTRUM\n\nT = t[1]-t[0]\nN = t.size               \n\n## YOUR CODE HERE",
   "execution_count": null,
   "outputs": []
  },
  {
   "cell_type": "code",
   "metadata": {
    "colab_type": "code",
    "id": "1QQkur43UiKC",
    "colab": {},
    "cell_id": "00023-b1a926ed-022b-41e1-bc4f-20caf1542844",
    "deepnote_cell_type": "code"
   },
   "source": "# FFT, IFFT\n\n## YOUR CODE HERE\n\n\n# PLOT\n\n## YOUR CODE HERE",
   "execution_count": null,
   "outputs": []
  },
  {
   "cell_type": "code",
   "metadata": {
    "colab_type": "code",
    "id": "PUiCkD_kZH7u",
    "colab": {},
    "cell_id": "00024-0e6ff90b-ba44-480d-a554-eb7aa03afa59",
    "deepnote_cell_type": "code"
   },
   "source": "np.corrcoef(abs(y_newt), abs(y_newt_recon))",
   "execution_count": null,
   "outputs": []
  },
  {
   "cell_type": "markdown",
   "source": "## Compare the original signal with the reconstructed signal by listening",
   "metadata": {
    "id": "PPDfuTqn6cGI",
    "colab_type": "text",
    "cell_id": "00025-1fd516f7-bf46-4f56-a60e-8b46f5d128c3",
    "deepnote_cell_type": "markdown"
   }
  },
  {
   "cell_type": "code",
   "metadata": {
    "colab_type": "code",
    "id": "wkrVHd3AUiHQ",
    "colab": {},
    "cell_id": "00026-22c71c30-f03b-4865-ace6-3b79b17afc2e",
    "deepnote_cell_type": "code"
   },
   "source": "# Original signal\nAudio(data=y_newt, rate=sample_rate)",
   "execution_count": null,
   "outputs": []
  },
  {
   "cell_type": "code",
   "metadata": {
    "colab_type": "code",
    "id": "-uIoe4T5UiED",
    "colab": {},
    "cell_id": "00027-4439515f-9904-4a54-9da3-897a659d2744",
    "deepnote_cell_type": "code"
   },
   "source": "# Digitized signal\nAudio(data=abs(y_newt_recon), rate=sample_rate)",
   "execution_count": null,
   "outputs": []
  },
  {
   "cell_type": "markdown",
   "source": "<a style='text-decoration:none;line-height:16px;display:flex;color:#5B5B62;padding:10px;justify-content:end;' href='https://deepnote.com?utm_source=created-in-deepnote-cell&projectId=3d82bae0-f509-4ec0-92dc-a9b1bbc77ba9' target=\"_blank\">\n<img alt='Created in deepnote.com' style='display:inline;max-height:16px;margin:0px;margin-right:7.5px;' src='data:image/svg+xml;base64,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' > </img>\nCreated in <span style='font-weight:600;margin-left:4px;'>Deepnote</span></a>",
   "metadata": {
    "tags": [],
    "created_in_deepnote_cell": true,
    "deepnote_cell_type": "markdown"
   }
  }
 ],
 "nbformat": 4,
 "nbformat_minor": 0,
 "metadata": {
  "colab": {
   "name": "FourierTransforms_Exercises.ipynb",
   "provenance": [],
   "collapsed_sections": []
  },
  "kernelspec": {
   "display_name": "Python 3",
   "language": "python",
   "name": "python3"
  },
  "language_info": {
   "codemirror_mode": {
    "name": "ipython",
    "version": 3
   },
   "file_extension": ".py",
   "mimetype": "text/x-python",
   "name": "python",
   "nbconvert_exporter": "python",
   "pygments_lexer": "ipython3",
   "version": "3.7.3"
  },
  "deepnote_notebook_id": "50123633-bb91-4d2e-a1fc-94e1d4bad887",
  "deepnote": {},
  "deepnote_execution_queue": []
 }
}