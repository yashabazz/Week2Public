{
 "cells": [
  {
   "cell_type": "markdown",
   "source": "<a href=\"https://colab.research.google.com/github/BeaverWorksMedlytics2020/Week2/blob/master/Notebooks/01_TimeSeries/TimeSeries_Exercises.ipynb\" target=\"_parent\"><img src=\"https://colab.research.google.com/assets/colab-badge.svg\" alt=\"Open In Colab\"/></a>",
   "metadata": {
    "id": "view-in-github",
    "colab_type": "text",
    "cell_id": "00000-c6b9fc61-0621-44ce-8790-cc384af4cfe3",
    "deepnote_cell_type": "markdown"
   }
  },
  {
   "cell_type": "markdown",
   "source": "# Time Series Data Analysis\nLet's revist the dataset utilized in the tutorial",
   "metadata": {
    "id": "J4bKFleU13aQ",
    "colab_type": "text",
    "cell_id": "00001-9de70df5-5071-4184-bc1b-f670f2e1a9ad",
    "deepnote_cell_type": "markdown"
   }
  },
  {
   "cell_type": "code",
   "metadata": {
    "id": "LyZWPlEE0jcz",
    "colab_type": "code",
    "colab": {},
    "cell_id": "00002-1f63e6ec-c875-43cf-9347-e0fe4985d439",
    "deepnote_to_be_reexecuted": false,
    "source_hash": "eec3de7e",
    "execution_start": 1626116489063,
    "execution_millis": 14,
    "deepnote_cell_type": "code"
   },
   "source": "import pandas as pd\nimport numpy as np\nimport matplotlib.pyplot as plt\nimport matplotlib\nimport scipy.io.wavfile\nfrom IPython.display import Audio\n\n%matplotlib inline\nmatplotlib.rcParams.update({'font.size': 22})",
   "outputs": [],
   "execution_count": null
  },
  {
   "cell_type": "markdown",
   "source": "Import the data and see what's in it (print the first 7 rows):",
   "metadata": {
    "id": "gURrvAUj_ZSH",
    "colab_type": "text",
    "cell_id": "00003-86d68c50-40e6-4203-b7cd-7f64c6ef48a4",
    "deepnote_cell_type": "markdown"
   }
  },
  {
   "cell_type": "code",
   "metadata": {
    "id": "wP4lzivh0nB0",
    "colab_type": "code",
    "colab": {},
    "cell_id": "00004-2a3e7fb0-7bb4-450e-ab4e-41582056e2bc",
    "deepnote_to_be_reexecuted": false,
    "source_hash": "540888ba",
    "execution_start": 1626116491066,
    "execution_millis": 47,
    "deepnote_cell_type": "code"
   },
   "source": "url = \"https://raw.githubusercontent.com/BeaverWorksMedlytics2020/Data_Public/master/NotebookExampleData/Week2/multiTimeline.csv\"\ndf = pd.read_csv(url,  skiprows=1)\ndf.head(7)\n",
   "outputs": [
    {
     "output_type": "execute_result",
     "execution_count": 9,
     "data": {
      "application/vnd.deepnote.dataframe.v2+json": {
       "row_count": 7,
       "column_count": 4,
       "columns": [
        {
         "name": "month",
         "dtype": "object",
         "stats": {
          "unique_count": 7,
          "nan_count": 0,
          "categories": [
           {
            "name": "2004-01",
            "count": 1
           },
           {
            "name": "2004-02",
            "count": 1
           },
           {
            "name": "5 others",
            "count": 5
           }
          ]
         }
        },
        {
         "name": "diet",
         "dtype": "int64",
         "stats": {
          "unique_count": 7,
          "nan_count": 0,
          "min": "60",
          "max": "100",
          "histogram": [
           {
            "bin_start": 60,
            "bin_end": 64,
            "count": 1
           },
           {
            "bin_start": 64,
            "bin_end": 68,
            "count": 2
           },
           {
            "bin_start": 68,
            "bin_end": 72,
            "count": 1
           },
           {
            "bin_start": 72,
            "bin_end": 76,
            "count": 2
           },
           {
            "bin_start": 76,
            "bin_end": 80,
            "count": 0
           },
           {
            "bin_start": 80,
            "bin_end": 84,
            "count": 0
           },
           {
            "bin_start": 84,
            "bin_end": 88,
            "count": 0
           },
           {
            "bin_start": 88,
            "bin_end": 92,
            "count": 0
           },
           {
            "bin_start": 92,
            "bin_end": 96,
            "count": 0
           },
           {
            "bin_start": 96,
            "bin_end": 100,
            "count": 1
           }
          ]
         }
        },
        {
         "name": "gym",
         "dtype": "int64",
         "stats": {
          "unique_count": 5,
          "nan_count": 0,
          "min": "22",
          "max": "31",
          "histogram": [
           {
            "bin_start": 22,
            "bin_end": 22.9,
            "count": 2
           },
           {
            "bin_start": 22.9,
            "bin_end": 23.8,
            "count": 1
           },
           {
            "bin_start": 23.8,
            "bin_end": 24.7,
            "count": 2
           },
           {
            "bin_start": 24.7,
            "bin_end": 25.6,
            "count": 0
           },
           {
            "bin_start": 25.6,
            "bin_end": 26.5,
            "count": 1
           },
           {
            "bin_start": 26.5,
            "bin_end": 27.4,
            "count": 0
           },
           {
            "bin_start": 27.4,
            "bin_end": 28.3,
            "count": 0
           },
           {
            "bin_start": 28.3,
            "bin_end": 29.2,
            "count": 0
           },
           {
            "bin_start": 29.2,
            "bin_end": 30.1,
            "count": 0
           },
           {
            "bin_start": 30.1,
            "bin_end": 31,
            "count": 1
           }
          ]
         }
        },
        {
         "name": "finance",
         "dtype": "int64",
         "stats": {
          "unique_count": 6,
          "nan_count": 0,
          "min": "43",
          "max": "49",
          "histogram": [
           {
            "bin_start": 43,
            "bin_end": 43.6,
            "count": 1
           },
           {
            "bin_start": 43.6,
            "bin_end": 44.2,
            "count": 1
           },
           {
            "bin_start": 44.2,
            "bin_end": 44.8,
            "count": 0
           },
           {
            "bin_start": 44.8,
            "bin_end": 45.4,
            "count": 1
           },
           {
            "bin_start": 45.4,
            "bin_end": 46,
            "count": 0
           },
           {
            "bin_start": 46,
            "bin_end": 46.6,
            "count": 0
           },
           {
            "bin_start": 46.6,
            "bin_end": 47.2,
            "count": 1
           },
           {
            "bin_start": 47.2,
            "bin_end": 47.8,
            "count": 0
           },
           {
            "bin_start": 47.8,
            "bin_end": 48.4,
            "count": 2
           },
           {
            "bin_start": 48.4,
            "bin_end": 49,
            "count": 1
           }
          ]
         }
        },
        {
         "name": "_deepnote_index_column",
         "dtype": "int64"
        }
       ],
       "rows_top": [
        {
         "month": "2004-01",
         "diet": 100,
         "gym": 31,
         "finance": 48,
         "_deepnote_index_column": 0
        },
        {
         "month": "2004-02",
         "diet": 75,
         "gym": 26,
         "finance": 49,
         "_deepnote_index_column": 1
        },
        {
         "month": "2004-03",
         "diet": 67,
         "gym": 24,
         "finance": 47,
         "_deepnote_index_column": 2
        },
        {
         "month": "2004-04",
         "diet": 70,
         "gym": 22,
         "finance": 48,
         "_deepnote_index_column": 3
        },
        {
         "month": "2004-05",
         "diet": 72,
         "gym": 22,
         "finance": 43,
         "_deepnote_index_column": 4
        },
        {
         "month": "2004-06",
         "diet": 64,
         "gym": 24,
         "finance": 45,
         "_deepnote_index_column": 5
        },
        {
         "month": "2004-07",
         "diet": 60,
         "gym": 23,
         "finance": 44,
         "_deepnote_index_column": 6
        }
       ],
       "rows_bottom": null
      },
      "text/plain": "     month  diet  gym  finance\n0  2004-01   100   31       48\n1  2004-02    75   26       49\n2  2004-03    67   24       47\n3  2004-04    70   22       48\n4  2004-05    72   22       43\n5  2004-06    64   24       45\n6  2004-07    60   23       44",
      "text/html": "<div>\n<style scoped>\n    .dataframe tbody tr th:only-of-type {\n        vertical-align: middle;\n    }\n\n    .dataframe tbody tr th {\n        vertical-align: top;\n    }\n\n    .dataframe thead th {\n        text-align: right;\n    }\n</style>\n<table border=\"1\" class=\"dataframe\">\n  <thead>\n    <tr style=\"text-align: right;\">\n      <th></th>\n      <th>month</th>\n      <th>diet</th>\n      <th>gym</th>\n      <th>finance</th>\n    </tr>\n  </thead>\n  <tbody>\n    <tr>\n      <th>0</th>\n      <td>2004-01</td>\n      <td>100</td>\n      <td>31</td>\n      <td>48</td>\n    </tr>\n    <tr>\n      <th>1</th>\n      <td>2004-02</td>\n      <td>75</td>\n      <td>26</td>\n      <td>49</td>\n    </tr>\n    <tr>\n      <th>2</th>\n      <td>2004-03</td>\n      <td>67</td>\n      <td>24</td>\n      <td>47</td>\n    </tr>\n    <tr>\n      <th>3</th>\n      <td>2004-04</td>\n      <td>70</td>\n      <td>22</td>\n      <td>48</td>\n    </tr>\n    <tr>\n      <th>4</th>\n      <td>2004-05</td>\n      <td>72</td>\n      <td>22</td>\n      <td>43</td>\n    </tr>\n    <tr>\n      <th>5</th>\n      <td>2004-06</td>\n      <td>64</td>\n      <td>24</td>\n      <td>45</td>\n    </tr>\n    <tr>\n      <th>6</th>\n      <td>2004-07</td>\n      <td>60</td>\n      <td>23</td>\n      <td>44</td>\n    </tr>\n  </tbody>\n</table>\n</div>"
     },
     "metadata": {}
    }
   ],
   "execution_count": null
  },
  {
   "cell_type": "markdown",
   "source": "What are your data types and how many rows do you have?:",
   "metadata": {
    "id": "LepGonuN_Mzj",
    "colab_type": "text",
    "cell_id": "00005-18968293-a2de-4087-af08-9b3f4ef374d2",
    "deepnote_cell_type": "markdown"
   }
  },
  {
   "cell_type": "code",
   "metadata": {
    "id": "W9IPjP7m2Hm0",
    "colab_type": "code",
    "colab": {},
    "cell_id": "00006-80a359f5-f47f-44d4-a562-914082c89ecb",
    "deepnote_to_be_reexecuted": false,
    "source_hash": "de1e323c",
    "execution_start": 1626116493166,
    "execution_millis": 34,
    "deepnote_cell_type": "code"
   },
   "source": "df.info()",
   "outputs": [
    {
     "name": "stdout",
     "text": "<class 'pandas.core.frame.DataFrame'>\nRangeIndex: 168 entries, 0 to 167\nData columns (total 4 columns):\n #   Column   Non-Null Count  Dtype \n---  ------   --------------  ----- \n 0   month    168 non-null    object\n 1   diet     168 non-null    int64 \n 2   gym      168 non-null    int64 \n 3   finance  168 non-null    int64 \ndtypes: int64(3), object(1)\nmemory usage: 5.4+ KB\n",
     "output_type": "stream"
    }
   ],
   "execution_count": null
  },
  {
   "cell_type": "markdown",
   "source": "Change the dataframe index to be datetime type. Plot all columns the dataset:\n",
   "metadata": {
    "id": "eO65bIEW_EOI",
    "colab_type": "text",
    "cell_id": "00007-2c04af81-aca4-49ab-882a-aa96def0c59e",
    "deepnote_cell_type": "markdown"
   }
  },
  {
   "cell_type": "code",
   "metadata": {
    "id": "kL5t21hm8Z08",
    "colab_type": "code",
    "colab": {},
    "cell_id": "00008-18e0b9a1-aa3a-4414-9597-e72674950402",
    "deepnote_to_be_reexecuted": false,
    "source_hash": "42de6eb5",
    "execution_start": 1626116496140,
    "execution_millis": 45,
    "deepnote_cell_type": "code"
   },
   "source": "df.month = pd.to_datetime(df.month)\ndf.set_index('month', inplace=True)\ndf",
   "outputs": [
    {
     "output_type": "execute_result",
     "execution_count": 11,
     "data": {
      "application/vnd.deepnote.dataframe.v2+json": {
       "row_count": 168,
       "column_count": 3,
       "columns": [
        {
         "name": "diet",
         "dtype": "int64",
         "stats": {
          "unique_count": 34,
          "nan_count": 0,
          "min": "34",
          "max": "100",
          "histogram": [
           {
            "bin_start": 34,
            "bin_end": 40.6,
            "count": 15
           },
           {
            "bin_start": 40.6,
            "bin_end": 47.2,
            "count": 53
           },
           {
            "bin_start": 47.2,
            "bin_end": 53.8,
            "count": 61
           },
           {
            "bin_start": 53.8,
            "bin_end": 60.4,
            "count": 27
           },
           {
            "bin_start": 60.4,
            "bin_end": 67,
            "count": 7
           },
           {
            "bin_start": 67,
            "bin_end": 73.6,
            "count": 3
           },
           {
            "bin_start": 73.6,
            "bin_end": 80.19999999999999,
            "count": 1
           },
           {
            "bin_start": 80.19999999999999,
            "bin_end": 86.8,
            "count": 0
           },
           {
            "bin_start": 86.8,
            "bin_end": 93.4,
            "count": 0
           },
           {
            "bin_start": 93.4,
            "bin_end": 100,
            "count": 1
           }
          ]
         }
        },
        {
         "name": "gym",
         "dtype": "int64",
         "stats": {
          "unique_count": 34,
          "nan_count": 0,
          "min": "22",
          "max": "58",
          "histogram": [
           {
            "bin_start": 22,
            "bin_end": 25.6,
            "count": 16
           },
           {
            "bin_start": 25.6,
            "bin_end": 29.2,
            "count": 40
           },
           {
            "bin_start": 29.2,
            "bin_end": 32.8,
            "count": 28
           },
           {
            "bin_start": 32.8,
            "bin_end": 36.4,
            "count": 20
           },
           {
            "bin_start": 36.4,
            "bin_end": 40,
            "count": 18
           },
           {
            "bin_start": 40,
            "bin_end": 43.6,
            "count": 18
           },
           {
            "bin_start": 43.6,
            "bin_end": 47.2,
            "count": 14
           },
           {
            "bin_start": 47.2,
            "bin_end": 50.8,
            "count": 5
           },
           {
            "bin_start": 50.8,
            "bin_end": 54.4,
            "count": 7
           },
           {
            "bin_start": 54.4,
            "bin_end": 58,
            "count": 2
           }
          ]
         }
        },
        {
         "name": "finance",
         "dtype": "int64",
         "stats": {
          "unique_count": 24,
          "nan_count": 0,
          "min": "38",
          "max": "73",
          "histogram": [
           {
            "bin_start": 38,
            "bin_end": 41.5,
            "count": 11
           },
           {
            "bin_start": 41.5,
            "bin_end": 45,
            "count": 47
           },
           {
            "bin_start": 45,
            "bin_end": 48.5,
            "count": 63
           },
           {
            "bin_start": 48.5,
            "bin_end": 52,
            "count": 17
           },
           {
            "bin_start": 52,
            "bin_end": 55.5,
            "count": 17
           },
           {
            "bin_start": 55.5,
            "bin_end": 59,
            "count": 10
           },
           {
            "bin_start": 59,
            "bin_end": 62.5,
            "count": 2
           },
           {
            "bin_start": 62.5,
            "bin_end": 66,
            "count": 0
           },
           {
            "bin_start": 66,
            "bin_end": 69.5,
            "count": 0
           },
           {
            "bin_start": 69.5,
            "bin_end": 73,
            "count": 1
           }
          ]
         }
        },
        {
         "name": "_deepnote_index_column",
         "dtype": "datetime64[ns]"
        }
       ],
       "rows_top": [
        {
         "diet": 100,
         "gym": 31,
         "finance": 48,
         "_deepnote_index_column": "2004-01-01T00:00:00.000000"
        },
        {
         "diet": 75,
         "gym": 26,
         "finance": 49,
         "_deepnote_index_column": "2004-02-01T00:00:00.000000"
        },
        {
         "diet": 67,
         "gym": 24,
         "finance": 47,
         "_deepnote_index_column": "2004-03-01T00:00:00.000000"
        },
        {
         "diet": 70,
         "gym": 22,
         "finance": 48,
         "_deepnote_index_column": "2004-04-01T00:00:00.000000"
        },
        {
         "diet": 72,
         "gym": 22,
         "finance": 43,
         "_deepnote_index_column": "2004-05-01T00:00:00.000000"
        },
        {
         "diet": 64,
         "gym": 24,
         "finance": 45,
         "_deepnote_index_column": "2004-06-01T00:00:00.000000"
        },
        {
         "diet": 60,
         "gym": 23,
         "finance": 44,
         "_deepnote_index_column": "2004-07-01T00:00:00.000000"
        },
        {
         "diet": 59,
         "gym": 28,
         "finance": 44,
         "_deepnote_index_column": "2004-08-01T00:00:00.000000"
        },
        {
         "diet": 53,
         "gym": 25,
         "finance": 44,
         "_deepnote_index_column": "2004-09-01T00:00:00.000000"
        },
        {
         "diet": 52,
         "gym": 24,
         "finance": 45,
         "_deepnote_index_column": "2004-10-01T00:00:00.000000"
        },
        {
         "diet": 50,
         "gym": 23,
         "finance": 43,
         "_deepnote_index_column": "2004-11-01T00:00:00.000000"
        },
        {
         "diet": 42,
         "gym": 24,
         "finance": 41,
         "_deepnote_index_column": "2004-12-01T00:00:00.000000"
        },
        {
         "diet": 64,
         "gym": 32,
         "finance": 44,
         "_deepnote_index_column": "2005-01-01T00:00:00.000000"
        },
        {
         "diet": 54,
         "gym": 28,
         "finance": 48,
         "_deepnote_index_column": "2005-02-01T00:00:00.000000"
        },
        {
         "diet": 56,
         "gym": 27,
         "finance": 46,
         "_deepnote_index_column": "2005-03-01T00:00:00.000000"
        },
        {
         "diet": 56,
         "gym": 25,
         "finance": 44,
         "_deepnote_index_column": "2005-04-01T00:00:00.000000"
        },
        {
         "diet": 59,
         "gym": 24,
         "finance": 42,
         "_deepnote_index_column": "2005-05-01T00:00:00.000000"
        },
        {
         "diet": 53,
         "gym": 25,
         "finance": 44,
         "_deepnote_index_column": "2005-06-01T00:00:00.000000"
        },
        {
         "diet": 53,
         "gym": 25,
         "finance": 44,
         "_deepnote_index_column": "2005-07-01T00:00:00.000000"
        },
        {
         "diet": 51,
         "gym": 28,
         "finance": 44,
         "_deepnote_index_column": "2005-08-01T00:00:00.000000"
        },
        {
         "diet": 47,
         "gym": 28,
         "finance": 44,
         "_deepnote_index_column": "2005-09-01T00:00:00.000000"
        },
        {
         "diet": 46,
         "gym": 27,
         "finance": 43,
         "_deepnote_index_column": "2005-10-01T00:00:00.000000"
        },
        {
         "diet": 44,
         "gym": 25,
         "finance": 42,
         "_deepnote_index_column": "2005-11-01T00:00:00.000000"
        },
        {
         "diet": 40,
         "gym": 24,
         "finance": 38,
         "_deepnote_index_column": "2005-12-01T00:00:00.000000"
        },
        {
         "diet": 64,
         "gym": 34,
         "finance": 44,
         "_deepnote_index_column": "2006-01-01T00:00:00.000000"
        },
        {
         "diet": 51,
         "gym": 29,
         "finance": 44,
         "_deepnote_index_column": "2006-02-01T00:00:00.000000"
        },
        {
         "diet": 51,
         "gym": 28,
         "finance": 46,
         "_deepnote_index_column": "2006-03-01T00:00:00.000000"
        },
        {
         "diet": 50,
         "gym": 27,
         "finance": 47,
         "_deepnote_index_column": "2006-04-01T00:00:00.000000"
        },
        {
         "diet": 50,
         "gym": 26,
         "finance": 45,
         "_deepnote_index_column": "2006-05-01T00:00:00.000000"
        },
        {
         "diet": 52,
         "gym": 25,
         "finance": 44,
         "_deepnote_index_column": "2006-06-01T00:00:00.000000"
        },
        {
         "diet": 51,
         "gym": 27,
         "finance": 42,
         "_deepnote_index_column": "2006-07-01T00:00:00.000000"
        },
        {
         "diet": 51,
         "gym": 30,
         "finance": 44,
         "_deepnote_index_column": "2006-08-01T00:00:00.000000"
        },
        {
         "diet": 45,
         "gym": 30,
         "finance": 46,
         "_deepnote_index_column": "2006-09-01T00:00:00.000000"
        },
        {
         "diet": 42,
         "gym": 27,
         "finance": 45,
         "_deepnote_index_column": "2006-10-01T00:00:00.000000"
        },
        {
         "diet": 43,
         "gym": 26,
         "finance": 45,
         "_deepnote_index_column": "2006-11-01T00:00:00.000000"
        },
        {
         "diet": 37,
         "gym": 26,
         "finance": 41,
         "_deepnote_index_column": "2006-12-01T00:00:00.000000"
        },
        {
         "diet": 57,
         "gym": 35,
         "finance": 46,
         "_deepnote_index_column": "2007-01-01T00:00:00.000000"
        },
        {
         "diet": 49,
         "gym": 33,
         "finance": 47,
         "_deepnote_index_column": "2007-02-01T00:00:00.000000"
        },
        {
         "diet": 51,
         "gym": 32,
         "finance": 48,
         "_deepnote_index_column": "2007-03-01T00:00:00.000000"
        },
        {
         "diet": 51,
         "gym": 32,
         "finance": 48,
         "_deepnote_index_column": "2007-04-01T00:00:00.000000"
        },
        {
         "diet": 49,
         "gym": 32,
         "finance": 47,
         "_deepnote_index_column": "2007-05-01T00:00:00.000000"
        },
        {
         "diet": 47,
         "gym": 31,
         "finance": 46,
         "_deepnote_index_column": "2007-06-01T00:00:00.000000"
        },
        {
         "diet": 49,
         "gym": 30,
         "finance": 50,
         "_deepnote_index_column": "2007-07-01T00:00:00.000000"
        },
        {
         "diet": 44,
         "gym": 31,
         "finance": 54,
         "_deepnote_index_column": "2007-08-01T00:00:00.000000"
        },
        {
         "diet": 46,
         "gym": 32,
         "finance": 52,
         "_deepnote_index_column": "2007-09-01T00:00:00.000000"
        },
        {
         "diet": 43,
         "gym": 28,
         "finance": 52,
         "_deepnote_index_column": "2007-10-01T00:00:00.000000"
        },
        {
         "diet": 40,
         "gym": 27,
         "finance": 50,
         "_deepnote_index_column": "2007-11-01T00:00:00.000000"
        },
        {
         "diet": 34,
         "gym": 26,
         "finance": 43,
         "_deepnote_index_column": "2007-12-01T00:00:00.000000"
        },
        {
         "diet": 52,
         "gym": 35,
         "finance": 53,
         "_deepnote_index_column": "2008-01-01T00:00:00.000000"
        },
        {
         "diet": 47,
         "gym": 30,
         "finance": 50,
         "_deepnote_index_column": "2008-02-01T00:00:00.000000"
        },
        {
         "diet": 46,
         "gym": 29,
         "finance": 53,
         "_deepnote_index_column": "2008-03-01T00:00:00.000000"
        },
        {
         "diet": 47,
         "gym": 28,
         "finance": 52,
         "_deepnote_index_column": "2008-04-01T00:00:00.000000"
        },
        {
         "diet": 45,
         "gym": 27,
         "finance": 48,
         "_deepnote_index_column": "2008-05-01T00:00:00.000000"
        },
        {
         "diet": 43,
         "gym": 27,
         "finance": 49,
         "_deepnote_index_column": "2008-06-01T00:00:00.000000"
        },
        {
         "diet": 44,
         "gym": 28,
         "finance": 52,
         "_deepnote_index_column": "2008-07-01T00:00:00.000000"
        },
        {
         "diet": 43,
         "gym": 31,
         "finance": 48,
         "_deepnote_index_column": "2008-08-01T00:00:00.000000"
        },
        {
         "diet": 42,
         "gym": 33,
         "finance": 61,
         "_deepnote_index_column": "2008-09-01T00:00:00.000000"
        },
        {
         "diet": 43,
         "gym": 28,
         "finance": 73,
         "_deepnote_index_column": "2008-10-01T00:00:00.000000"
        },
        {
         "diet": 39,
         "gym": 28,
         "finance": 58,
         "_deepnote_index_column": "2008-11-01T00:00:00.000000"
        },
        {
         "diet": 38,
         "gym": 27,
         "finance": 50,
         "_deepnote_index_column": "2008-12-01T00:00:00.000000"
        },
        {
         "diet": 52,
         "gym": 35,
         "finance": 54,
         "_deepnote_index_column": "2009-01-01T00:00:00.000000"
        },
        {
         "diet": 46,
         "gym": 30,
         "finance": 58,
         "_deepnote_index_column": "2009-02-01T00:00:00.000000"
        },
        {
         "diet": 48,
         "gym": 28,
         "finance": 58,
         "_deepnote_index_column": "2009-03-01T00:00:00.000000"
        },
        {
         "diet": 49,
         "gym": 29,
         "finance": 57,
         "_deepnote_index_column": "2009-04-01T00:00:00.000000"
        },
        {
         "diet": 48,
         "gym": 28,
         "finance": 53,
         "_deepnote_index_column": "2009-05-01T00:00:00.000000"
        },
        {
         "diet": 47,
         "gym": 28,
         "finance": 55,
         "_deepnote_index_column": "2009-06-01T00:00:00.000000"
        },
        {
         "diet": 47,
         "gym": 28,
         "finance": 57,
         "_deepnote_index_column": "2009-07-01T00:00:00.000000"
        },
        {
         "diet": 48,
         "gym": 30,
         "finance": 57,
         "_deepnote_index_column": "2009-08-01T00:00:00.000000"
        },
        {
         "diet": 44,
         "gym": 31,
         "finance": 60,
         "_deepnote_index_column": "2009-09-01T00:00:00.000000"
        },
        {
         "diet": 44,
         "gym": 28,
         "finance": 57,
         "_deepnote_index_column": "2009-10-01T00:00:00.000000"
        },
        {
         "diet": 41,
         "gym": 27,
         "finance": 52,
         "_deepnote_index_column": "2009-11-01T00:00:00.000000"
        },
        {
         "diet": 39,
         "gym": 27,
         "finance": 47,
         "_deepnote_index_column": "2009-12-01T00:00:00.000000"
        },
        {
         "diet": 57,
         "gym": 35,
         "finance": 51,
         "_deepnote_index_column": "2010-01-01T00:00:00.000000"
        },
        {
         "diet": 50,
         "gym": 31,
         "finance": 53,
         "_deepnote_index_column": "2010-02-01T00:00:00.000000"
        },
        {
         "diet": 51,
         "gym": 30,
         "finance": 53,
         "_deepnote_index_column": "2010-03-01T00:00:00.000000"
        },
        {
         "diet": 51,
         "gym": 29,
         "finance": 56,
         "_deepnote_index_column": "2010-04-01T00:00:00.000000"
        },
        {
         "diet": 49,
         "gym": 28,
         "finance": 55,
         "_deepnote_index_column": "2010-05-01T00:00:00.000000"
        },
        {
         "diet": 47,
         "gym": 28,
         "finance": 52,
         "_deepnote_index_column": "2010-06-01T00:00:00.000000"
        },
        {
         "diet": 48,
         "gym": 29,
         "finance": 50,
         "_deepnote_index_column": "2010-07-01T00:00:00.000000"
        },
        {
         "diet": 48,
         "gym": 31,
         "finance": 51,
         "_deepnote_index_column": "2010-08-01T00:00:00.000000"
        },
        {
         "diet": 48,
         "gym": 32,
         "finance": 54,
         "_deepnote_index_column": "2010-09-01T00:00:00.000000"
        },
        {
         "diet": 45,
         "gym": 30,
         "finance": 51,
         "_deepnote_index_column": "2010-10-01T00:00:00.000000"
        },
        {
         "diet": 43,
         "gym": 28,
         "finance": 49,
         "_deepnote_index_column": "2010-11-01T00:00:00.000000"
        },
        {
         "diet": 39,
         "gym": 28,
         "finance": 46,
         "_deepnote_index_column": "2010-12-01T00:00:00.000000"
        },
        {
         "diet": 61,
         "gym": 39,
         "finance": 51,
         "_deepnote_index_column": "2011-01-01T00:00:00.000000"
        },
        {
         "diet": 53,
         "gym": 34,
         "finance": 50,
         "_deepnote_index_column": "2011-02-01T00:00:00.000000"
        },
        {
         "diet": 54,
         "gym": 33,
         "finance": 51,
         "_deepnote_index_column": "2011-03-01T00:00:00.000000"
        },
        {
         "diet": 59,
         "gym": 31,
         "finance": 49,
         "_deepnote_index_column": "2011-04-01T00:00:00.000000"
        },
        {
         "diet": 57,
         "gym": 31,
         "finance": 50,
         "_deepnote_index_column": "2011-05-01T00:00:00.000000"
        },
        {
         "diet": 52,
         "gym": 32,
         "finance": 48,
         "_deepnote_index_column": "2011-06-01T00:00:00.000000"
        },
        {
         "diet": 52,
         "gym": 30,
         "finance": 48,
         "_deepnote_index_column": "2011-07-01T00:00:00.000000"
        },
        {
         "diet": 52,
         "gym": 34,
         "finance": 56,
         "_deepnote_index_column": "2011-08-01T00:00:00.000000"
        },
        {
         "diet": 50,
         "gym": 36,
         "finance": 52,
         "_deepnote_index_column": "2011-09-01T00:00:00.000000"
        },
        {
         "diet": 48,
         "gym": 33,
         "finance": 50,
         "_deepnote_index_column": "2011-10-01T00:00:00.000000"
        },
        {
         "diet": 49,
         "gym": 33,
         "finance": 47,
         "_deepnote_index_column": "2011-11-01T00:00:00.000000"
        },
        {
         "diet": 44,
         "gym": 32,
         "finance": 42,
         "_deepnote_index_column": "2011-12-01T00:00:00.000000"
        },
        {
         "diet": 64,
         "gym": 42,
         "finance": 44,
         "_deepnote_index_column": "2012-01-01T00:00:00.000000"
        },
        {
         "diet": 57,
         "gym": 37,
         "finance": 47,
         "_deepnote_index_column": "2012-02-01T00:00:00.000000"
        },
        {
         "diet": 57,
         "gym": 35,
         "finance": 47,
         "_deepnote_index_column": "2012-03-01T00:00:00.000000"
        },
        {
         "diet": 56,
         "gym": 34,
         "finance": 45,
         "_deepnote_index_column": "2012-04-01T00:00:00.000000"
        },
        {
         "diet": 55,
         "gym": 33,
         "finance": 47,
         "_deepnote_index_column": "2012-05-01T00:00:00.000000"
        },
        {
         "diet": 52,
         "gym": 35,
         "finance": 43,
         "_deepnote_index_column": "2012-06-01T00:00:00.000000"
        },
        {
         "diet": 55,
         "gym": 37,
         "finance": 44,
         "_deepnote_index_column": "2012-07-01T00:00:00.000000"
        },
        {
         "diet": 55,
         "gym": 37,
         "finance": 45,
         "_deepnote_index_column": "2012-08-01T00:00:00.000000"
        },
        {
         "diet": 51,
         "gym": 39,
         "finance": 46,
         "_deepnote_index_column": "2012-09-01T00:00:00.000000"
        },
        {
         "diet": 46,
         "gym": 33,
         "finance": 45,
         "_deepnote_index_column": "2012-10-01T00:00:00.000000"
        },
        {
         "diet": 44,
         "gym": 32,
         "finance": 42,
         "_deepnote_index_column": "2012-11-01T00:00:00.000000"
        },
        {
         "diet": 42,
         "gym": 32,
         "finance": 38,
         "_deepnote_index_column": "2012-12-01T00:00:00.000000"
        },
        {
         "diet": 65,
         "gym": 43,
         "finance": 46,
         "_deepnote_index_column": "2013-01-01T00:00:00.000000"
        },
        {
         "diet": 58,
         "gym": 37,
         "finance": 46,
         "_deepnote_index_column": "2013-02-01T00:00:00.000000"
        },
        {
         "diet": 59,
         "gym": 37,
         "finance": 46,
         "_deepnote_index_column": "2013-03-01T00:00:00.000000"
        },
        {
         "diet": 58,
         "gym": 37,
         "finance": 47,
         "_deepnote_index_column": "2013-04-01T00:00:00.000000"
        },
        {
         "diet": 55,
         "gym": 36,
         "finance": 46,
         "_deepnote_index_column": "2013-05-01T00:00:00.000000"
        },
        {
         "diet": 55,
         "gym": 37,
         "finance": 43,
         "_deepnote_index_column": "2013-06-01T00:00:00.000000"
        },
        {
         "diet": 55,
         "gym": 37,
         "finance": 46,
         "_deepnote_index_column": "2013-07-01T00:00:00.000000"
        },
        {
         "diet": 51,
         "gym": 39,
         "finance": 46,
         "_deepnote_index_column": "2013-08-01T00:00:00.000000"
        },
        {
         "diet": 52,
         "gym": 41,
         "finance": 47,
         "_deepnote_index_column": "2013-09-01T00:00:00.000000"
        },
        {
         "diet": 46,
         "gym": 38,
         "finance": 47,
         "_deepnote_index_column": "2013-10-01T00:00:00.000000"
        },
        {
         "diet": 46,
         "gym": 37,
         "finance": 44,
         "_deepnote_index_column": "2013-11-01T00:00:00.000000"
        },
        {
         "diet": 42,
         "gym": 36,
         "finance": 40,
         "_deepnote_index_column": "2013-12-01T00:00:00.000000"
        },
        {
         "diet": 61,
         "gym": 47,
         "finance": 46,
         "_deepnote_index_column": "2014-01-01T00:00:00.000000"
        },
        {
         "diet": 53,
         "gym": 44,
         "finance": 47,
         "_deepnote_index_column": "2014-02-01T00:00:00.000000"
        },
        {
         "diet": 54,
         "gym": 43,
         "finance": 47,
         "_deepnote_index_column": "2014-03-01T00:00:00.000000"
        },
        {
         "diet": 53,
         "gym": 40,
         "finance": 46,
         "_deepnote_index_column": "2014-04-01T00:00:00.000000"
        },
        {
         "diet": 50,
         "gym": 39,
         "finance": 44,
         "_deepnote_index_column": "2014-05-01T00:00:00.000000"
        },
        {
         "diet": 49,
         "gym": 39,
         "finance": 44,
         "_deepnote_index_column": "2014-06-01T00:00:00.000000"
        },
        {
         "diet": 48,
         "gym": 41,
         "finance": 45,
         "_deepnote_index_column": "2014-07-01T00:00:00.000000"
        },
        {
         "diet": 47,
         "gym": 40,
         "finance": 44,
         "_deepnote_index_column": "2014-08-01T00:00:00.000000"
        },
        {
         "diet": 46,
         "gym": 40,
         "finance": 48,
         "_deepnote_index_column": "2014-09-01T00:00:00.000000"
        },
        {
         "diet": 43,
         "gym": 38,
         "finance": 47,
         "_deepnote_index_column": "2014-10-01T00:00:00.000000"
        },
        {
         "diet": 42,
         "gym": 37,
         "finance": 42,
         "_deepnote_index_column": "2014-11-01T00:00:00.000000"
        },
        {
         "diet": 38,
         "gym": 38,
         "finance": 42,
         "_deepnote_index_column": "2014-12-01T00:00:00.000000"
        },
        {
         "diet": 54,
         "gym": 48,
         "finance": 46,
         "_deepnote_index_column": "2015-01-01T00:00:00.000000"
        },
        {
         "diet": 48,
         "gym": 43,
         "finance": 47,
         "_deepnote_index_column": "2015-02-01T00:00:00.000000"
        },
        {
         "diet": 51,
         "gym": 43,
         "finance": 46,
         "_deepnote_index_column": "2015-03-01T00:00:00.000000"
        },
        {
         "diet": 49,
         "gym": 42,
         "finance": 46,
         "_deepnote_index_column": "2015-04-01T00:00:00.000000"
        },
        {
         "diet": 48,
         "gym": 41,
         "finance": 44,
         "_deepnote_index_column": "2015-05-01T00:00:00.000000"
        },
        {
         "diet": 48,
         "gym": 42,
         "finance": 45,
         "_deepnote_index_column": "2015-06-01T00:00:00.000000"
        },
        {
         "diet": 47,
         "gym": 42,
         "finance": 46,
         "_deepnote_index_column": "2015-07-01T00:00:00.000000"
        },
        {
         "diet": 46,
         "gym": 43,
         "finance": 48,
         "_deepnote_index_column": "2015-08-01T00:00:00.000000"
        },
        {
         "diet": 43,
         "gym": 45,
         "finance": 48,
         "_deepnote_index_column": "2015-09-01T00:00:00.000000"
        },
        {
         "diet": 42,
         "gym": 41,
         "finance": 46,
         "_deepnote_index_column": "2015-10-01T00:00:00.000000"
        },
        {
         "diet": 39,
         "gym": 42,
         "finance": 42,
         "_deepnote_index_column": "2015-11-01T00:00:00.000000"
        },
        {
         "diet": 38,
         "gym": 42,
         "finance": 40,
         "_deepnote_index_column": "2015-12-01T00:00:00.000000"
        },
        {
         "diet": 51,
         "gym": 52,
         "finance": 44,
         "_deepnote_index_column": "2016-01-01T00:00:00.000000"
        },
        {
         "diet": 48,
         "gym": 46,
         "finance": 46,
         "_deepnote_index_column": "2016-02-01T00:00:00.000000"
        },
        {
         "diet": 48,
         "gym": 47,
         "finance": 44,
         "_deepnote_index_column": "2016-03-01T00:00:00.000000"
        },
        {
         "diet": 48,
         "gym": 44,
         "finance": 43,
         "_deepnote_index_column": "2016-04-01T00:00:00.000000"
        },
        {
         "diet": 47,
         "gym": 46,
         "finance": 42,
         "_deepnote_index_column": "2016-05-01T00:00:00.000000"
        },
        {
         "diet": 44,
         "gym": 46,
         "finance": 45,
         "_deepnote_index_column": "2016-06-01T00:00:00.000000"
        },
        {
         "diet": 43,
         "gym": 58,
         "finance": 41,
         "_deepnote_index_column": "2016-07-01T00:00:00.000000"
        },
        {
         "diet": 45,
         "gym": 53,
         "finance": 41,
         "_deepnote_index_column": "2016-08-01T00:00:00.000000"
        },
        {
         "diet": 43,
         "gym": 51,
         "finance": 44,
         "_deepnote_index_column": "2016-09-01T00:00:00.000000"
        },
        {
         "diet": 40,
         "gym": 45,
         "finance": 41,
         "_deepnote_index_column": "2016-10-01T00:00:00.000000"
        },
        {
         "diet": 39,
         "gym": 44,
         "finance": 43,
         "_deepnote_index_column": "2016-11-01T00:00:00.000000"
        },
        {
         "diet": 36,
         "gym": 44,
         "finance": 39,
         "_deepnote_index_column": "2016-12-01T00:00:00.000000"
        },
        {
         "diet": 55,
         "gym": 56,
         "finance": 43,
         "_deepnote_index_column": "2017-01-01T00:00:00.000000"
        },
        {
         "diet": 56,
         "gym": 51,
         "finance": 44,
         "_deepnote_index_column": "2017-02-01T00:00:00.000000"
        },
        {
         "diet": 50,
         "gym": 51,
         "finance": 44,
         "_deepnote_index_column": "2017-03-01T00:00:00.000000"
        },
        {
         "diet": 49,
         "gym": 48,
         "finance": 42,
         "_deepnote_index_column": "2017-04-01T00:00:00.000000"
        },
        {
         "diet": 48,
         "gym": 48,
         "finance": 43,
         "_deepnote_index_column": "2017-05-01T00:00:00.000000"
        },
        {
         "diet": 48,
         "gym": 49,
         "finance": 41,
         "_deepnote_index_column": "2017-06-01T00:00:00.000000"
        },
        {
         "diet": 52,
         "gym": 52,
         "finance": 43,
         "_deepnote_index_column": "2017-07-01T00:00:00.000000"
        },
        {
         "diet": 46,
         "gym": 52,
         "finance": 43,
         "_deepnote_index_column": "2017-08-01T00:00:00.000000"
        },
        {
         "diet": 44,
         "gym": 50,
         "finance": 47,
         "_deepnote_index_column": "2017-09-01T00:00:00.000000"
        },
        {
         "diet": 44,
         "gym": 47,
         "finance": 45,
         "_deepnote_index_column": "2017-10-01T00:00:00.000000"
        },
        {
         "diet": 41,
         "gym": 47,
         "finance": 47,
         "_deepnote_index_column": "2017-11-01T00:00:00.000000"
        },
        {
         "diet": 39,
         "gym": 45,
         "finance": 56,
         "_deepnote_index_column": "2017-12-01T00:00:00.000000"
        }
       ],
       "rows_bottom": null
      },
      "text/plain": "            diet  gym  finance\nmonth                         \n2004-01-01   100   31       48\n2004-02-01    75   26       49\n2004-03-01    67   24       47\n2004-04-01    70   22       48\n2004-05-01    72   22       43\n...          ...  ...      ...\n2017-08-01    46   52       43\n2017-09-01    44   50       47\n2017-10-01    44   47       45\n2017-11-01    41   47       47\n2017-12-01    39   45       56\n\n[168 rows x 3 columns]",
      "text/html": "<div>\n<style scoped>\n    .dataframe tbody tr th:only-of-type {\n        vertical-align: middle;\n    }\n\n    .dataframe tbody tr th {\n        vertical-align: top;\n    }\n\n    .dataframe thead th {\n        text-align: right;\n    }\n</style>\n<table border=\"1\" class=\"dataframe\">\n  <thead>\n    <tr style=\"text-align: right;\">\n      <th></th>\n      <th>diet</th>\n      <th>gym</th>\n      <th>finance</th>\n    </tr>\n    <tr>\n      <th>month</th>\n      <th></th>\n      <th></th>\n      <th></th>\n    </tr>\n  </thead>\n  <tbody>\n    <tr>\n      <th>2004-01-01</th>\n      <td>100</td>\n      <td>31</td>\n      <td>48</td>\n    </tr>\n    <tr>\n      <th>2004-02-01</th>\n      <td>75</td>\n      <td>26</td>\n      <td>49</td>\n    </tr>\n    <tr>\n      <th>2004-03-01</th>\n      <td>67</td>\n      <td>24</td>\n      <td>47</td>\n    </tr>\n    <tr>\n      <th>2004-04-01</th>\n      <td>70</td>\n      <td>22</td>\n      <td>48</td>\n    </tr>\n    <tr>\n      <th>2004-05-01</th>\n      <td>72</td>\n      <td>22</td>\n      <td>43</td>\n    </tr>\n    <tr>\n      <th>...</th>\n      <td>...</td>\n      <td>...</td>\n      <td>...</td>\n    </tr>\n    <tr>\n      <th>2017-08-01</th>\n      <td>46</td>\n      <td>52</td>\n      <td>43</td>\n    </tr>\n    <tr>\n      <th>2017-09-01</th>\n      <td>44</td>\n      <td>50</td>\n      <td>47</td>\n    </tr>\n    <tr>\n      <th>2017-10-01</th>\n      <td>44</td>\n      <td>47</td>\n      <td>45</td>\n    </tr>\n    <tr>\n      <th>2017-11-01</th>\n      <td>41</td>\n      <td>47</td>\n      <td>47</td>\n    </tr>\n    <tr>\n      <th>2017-12-01</th>\n      <td>39</td>\n      <td>45</td>\n      <td>56</td>\n    </tr>\n  </tbody>\n</table>\n<p>168 rows × 3 columns</p>\n</div>"
     },
     "metadata": {}
    }
   ],
   "execution_count": null
  },
  {
   "cell_type": "markdown",
   "source": "Now let's plot the 'gym' and 'finance' columns as a time series.",
   "metadata": {
    "id": "aLWy3AszMqkP",
    "colab_type": "text",
    "cell_id": "00009-4aa88165-7306-47ef-91ea-5797c2e4c880",
    "deepnote_cell_type": "markdown"
   }
  },
  {
   "cell_type": "code",
   "metadata": {
    "id": "mY4oD_VU8s7m",
    "colab_type": "code",
    "colab": {},
    "cell_id": "00010-894c947b-a143-464d-850a-82ebb7a03ce2",
    "deepnote_to_be_reexecuted": false,
    "source_hash": "c39b73b3",
    "execution_start": 1626116673703,
    "execution_millis": 306,
    "deepnote_cell_type": "code"
   },
   "source": "df[['gym', 'finance']].plot(figsize=(20,10), linewidth=5, fontsize=20)\nplt.xlabel('Year', fontsize=20);\n",
   "outputs": [
    {
     "data": {
      "text/plain": "<Figure size 1440x720 with 1 Axes>",
      "image/png": "[encoded data removed]"
     },
     "metadata": {
      "needs_background": "light",
      "image/png": {
       "width": 1163,
       "height": 607
      }
     },
     "output_type": "display_data"
    }
   ],
   "execution_count": null
  },
  {
   "cell_type": "markdown",
   "source": "Using a rolling window of appropriate size, identfy non-seasonal trends in each time series",
   "metadata": {
    "id": "74SVPcD3G5mH",
    "colab_type": "text",
    "cell_id": "00011-1f3f6703-68eb-410b-b3b6-5c0a3e562885",
    "deepnote_cell_type": "markdown"
   }
  },
  {
   "cell_type": "code",
   "metadata": {
    "id": "JWhKxDIZG4FX",
    "colab_type": "code",
    "colab": {},
    "cell_id": "00012-5e087e32-e302-479e-bd45-5a8938306a27",
    "deepnote_cell_type": "code"
   },
   "source": "gym = df[['gym']]\nfinance = df[['finance']]\n\n#It seems like the window is also 12 for the rolling average for both \"gym\" and \"finance\"\n",
   "execution_count": null,
   "outputs": []
  },
  {
   "cell_type": "markdown",
   "source": "Using either the first order differencing or the additive model, identify seasonal patterns in the data.",
   "metadata": {
    "id": "9k0TwYcelB0i",
    "colab_type": "text",
    "cell_id": "00013-c32ad8af-35f7-457e-b838-f02f4759887d",
    "deepnote_cell_type": "markdown"
   }
  },
  {
   "cell_type": "code",
   "metadata": {
    "id": "LsJFsCx4jTU8",
    "colab_type": "code",
    "colab": {},
    "cell_id": "00014-66603eae-42c5-44f1-8a0b-650c64ccb169",
    "deepnote_cell_type": "code"
   },
   "source": "#write code here\n",
   "execution_count": null,
   "outputs": []
  },
  {
   "cell_type": "markdown",
   "source": "# Representing Signals Data",
   "metadata": {
    "id": "bfSknaigJTB_",
    "colab_type": "text",
    "cell_id": "00015-78e58dcb-0116-4e85-8257-da8f999d041c",
    "deepnote_cell_type": "markdown"
   }
  },
  {
   "cell_type": "markdown",
   "source": "What is the formula for this sinusoidal curve? \n\n\n\n![image.png](data:image/png;base64,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)",
   "metadata": {
    "id": "m8C0eQ8r_Cq6",
    "colab_type": "text",
    "cell_id": "00016-4e179a94-d7f0-4732-a997-010cedf86791",
    "deepnote_cell_type": "markdown"
   }
  },
  {
   "cell_type": "markdown",
   "source": "Can you reproduce the curve plot? (use np.sin, np.cos, and np.pi)",
   "metadata": {
    "id": "g-a0HNopIIhN",
    "colab_type": "text",
    "cell_id": "00017-b5427bb4-b183-4c08-83ed-12c8d073a63c",
    "deepnote_cell_type": "markdown"
   }
  },
  {
   "cell_type": "code",
   "metadata": {
    "id": "hB8mSQ9MOMAe",
    "colab_type": "code",
    "colab": {},
    "cell_id": "00018-f7dd588e-8e06-40b4-8495-54108556be30",
    "deepnote_cell_type": "code"
   },
   "source": "n_sec = 8                         # number of seconds to plot\nn_points = 100                  # number of points per second\nt = np.arange(n_sec*n_points)/n_points    # time axis\n\n#Write Code Here\n",
   "execution_count": null,
   "outputs": []
  },
  {
   "cell_type": "markdown",
   "source": "### Approximating a Square Wave\n\nAs you've seen, we can create arbitrary signals by combining multiple sinusoid waves.  Let's practice approximating a square wave!\n\nUsing Fourier expansion, an ideal square wave with an amplitude of 1 can be represented as an infinite sum of sinusoidal waves:\n\nSee the Wikipedia article on the square wave (https://en.wikipedia.org/wiki/Square_wave) for the equation!\nIn the below code cell, try use the provided formula for the $k$th term in the expansion to calculate 5 and 20 term approximations for the square wave.",
   "metadata": {
    "id": "S-A9sRcgOMAt",
    "colab_type": "text",
    "cell_id": "00019-c4f032ac-f325-4303-b817-f4df87f97905",
    "deepnote_cell_type": "markdown"
   }
  },
  {
   "cell_type": "code",
   "metadata": {
    "id": "V4y0Io3EOMAu",
    "colab_type": "code",
    "colab": {},
    "cell_id": "00020-4f34333a-17b0-4674-a2e0-dc8704e8b760",
    "deepnote_cell_type": "code"
   },
   "source": "#Write Code Here\n# Setup\nn_sec = 1.5                               # number of seconds to plot\nn_points_per_sec = 200                    # number of points per second\nt = np.arange(n_sec*n_points_per_sec)/n_points_per_sec    # time vector\nf = 1             # define frequency for square wave to be approximated\nn_signals = 5     # number of terms for first approximation\nn_signals2 = 20   # number of terms for second approximation\n\n# Populate y_approx1 and y_approx2 with approximations for square wave function\ny_approx1= np.zeros(t.shape)\nfor k in range(1,6):\n  omega = 2*np.pi*(2*k-1)*f\n  y_approx1 += 0## UPDATE THIS LINE\n\n\ny_approx2 = np.zeros(t.shape)\nfor k in range(1,20+1):\n  omega = 2*np.pi*(2*k-1)*f\n  y_approx2 += 0 ## UPDATE THIS LINE\n\n\n# Plotting\nsqwave = np.sign(np.sin(2*np.pi*t)) # an actual square wave (for reference)\n\nplt.figure(figsize=(10,8))\nplt.plot(t, y_approx1, label = f'{n_signals}-term approximation', color = 'b')\nplt.plot(t, y_approx2, label = f'{n_signals2}-term approximation', color = 'g')\nplt.plot(t,sqwave,label='square wave',color = 'k')\n\nplt.xlabel('Time (sec)')\nplt.ylabel('y')\nplt.legend()",
   "execution_count": null,
   "outputs": []
  },
  {
   "cell_type": "markdown",
   "source": "Those little peaks near the corners are caused by what's known as the [Gibbs Phenomenon](https://en.wikipedia.org/wiki/Gibbs_phenomenon). As long as we have a finite number of terms, no matter how many, we will have Gibbs phenomena.",
   "metadata": {
    "id": "FVPIb1cQOMAy",
    "colab_type": "text",
    "cell_id": "00021-0544e917-306f-4512-b063-769a0dd3ba29",
    "deepnote_cell_type": "markdown"
   }
  },
  {
   "cell_type": "markdown",
   "source": "# Fun With Sounds",
   "metadata": {
    "id": "oQXpzyknKAPM",
    "colab_type": "text",
    "cell_id": "00022-cc8e558d-958d-4407-86b1-02fd6864efe2",
    "deepnote_cell_type": "markdown"
   }
  },
  {
   "cell_type": "markdown",
   "source": "The rest of this problem set notebook is purely for fun (i.e. no more questions.) \n\nBelow, we use scipy tools to play sounds based on waveforms we define, or to display waveforms based on recorded audio files.",
   "metadata": {
    "id": "rDlAilXYIhDi",
    "colab_type": "text",
    "cell_id": "00023-bea9e0a0-1a22-4d8f-96f5-a9998f37ad55",
    "deepnote_cell_type": "markdown"
   }
  },
  {
   "cell_type": "markdown",
   "source": "### Beats\nIf you combine two signals with very similar frequencies, you may induce *beats*.\n\n<img src = \"https://github.com/BeaverWorksMedlytics2020/Data_Public/blob/master/Images/Week2/beats.gif?raw=true\">\n\n",
   "metadata": {
    "id": "CYYGNi2TOMA4",
    "colab_type": "text",
    "cell_id": "00024-8f8d200e-496a-4203-9403-a9c30e7b3a34",
    "deepnote_cell_type": "markdown"
   }
  },
  {
   "cell_type": "code",
   "metadata": {
    "id": "YEkCI1kLOMA6",
    "colab_type": "code",
    "colab": {},
    "cell_id": "00025-97b75a61-adae-4ed5-a511-fdea0f76f78c",
    "deepnote_cell_type": "code"
   },
   "source": "f = 262                # base frequency (Hz)\nf_diff = 2             # frequency difference (Hz)\n\n\nn_sec = 5              # number of seconds\nomega1 = 2*np.pi*f     # angular frequency (rad/sec)\nomega2 = 2*np.pi*(f+f_diff)    \n\nn_points = (f+f_diff)*n_sec*4   # number of points -- must be greater than (f+f_diff)*n_sec*2\nt = np.arange(n_sec*n_points)/n_points    \ny = np.sin(omega1*t) + np.sin(omega2*t+np.pi)  \n\nplt.figure(figsize=(20,4))\nplt.plot(t,y)\nplt.xlabel('Time-seconds')\nplt.grid(True)\nAudio(data=y, rate=n_points)",
   "execution_count": null,
   "outputs": []
  },
  {
   "cell_type": "markdown",
   "source": "#### Exercise\n\nLet's play with more sounds.  Here is what \"ah\" sound looks like:",
   "metadata": {
    "id": "oOzlVa66OMBH",
    "colab_type": "text",
    "cell_id": "00026-efe500b5-06d4-49c4-9bab-deabf01bf246",
    "deepnote_cell_type": "markdown"
   }
  },
  {
   "cell_type": "code",
   "metadata": {
    "id": "D5Tmi1M7O1g4",
    "colab_type": "code",
    "colab": {},
    "cell_id": "00027-b2479c50-4ce1-4ec8-851f-76133ac904bb",
    "deepnote_cell_type": "code"
   },
   "source": "# Grab 2 sample .wav files (audio files) to analyze\n! wget https://raw.githubusercontent.com/BeaverWorksMedlytics2020/Data_Public/master/NotebookExampleData/Week2/sounds/newt.wav\n! wget https://raw.githubusercontent.com/BeaverWorksMedlytics2020/Data_Public/master/NotebookExampleData/Week2/sounds/vowel_ah.wav\n",
   "execution_count": null,
   "outputs": []
  },
  {
   "cell_type": "code",
   "metadata": {
    "id": "2A7gC6UIOMBI",
    "colab_type": "code",
    "colab": {},
    "cell_id": "00028-c5f9385c-ef00-416c-b483-caf0c4a566b4",
    "deepnote_cell_type": "code"
   },
   "source": "(sample_rate, input_signal) = scipy.io.wavfile.read(\"./vowel_ah.wav\")\n\nt = np.arange(0, len(input_signal)/sample_rate, 1/sample_rate)\n\nplt.figure(figsize=(20,4))\nplt.plot(t[0:4000], input_signal[0:4000])\nplt.title('Ah vowel sound')\nplt.xlabel('time (in seconds)')\nplt.ylabel('amplitude')",
   "execution_count": null,
   "outputs": []
  },
  {
   "cell_type": "markdown",
   "source": "Now let's play the sound!",
   "metadata": {
    "id": "rbjnEC8QOMBL",
    "colab_type": "text",
    "cell_id": "00029-7450f1c9-45ea-42cb-ba09-1030ad89163e",
    "deepnote_cell_type": "markdown"
   }
  },
  {
   "cell_type": "code",
   "metadata": {
    "id": "DTN7BpKlOMBO",
    "colab_type": "code",
    "colab": {},
    "cell_id": "00030-9f78925c-8183-4c14-a97e-5ce0220177b0",
    "deepnote_cell_type": "code"
   },
   "source": "# for reference, this is what it should sound like\nAudio(\"./vowel_ah.wav\")",
   "execution_count": null,
   "outputs": []
  },
  {
   "cell_type": "markdown",
   "source": "Now It's your turn: input the audio file \"./newt.wav\", plot the figure appropriate to the length of the input signal and sample rate, and play it.",
   "metadata": {
    "id": "sVCVLqkYIRqL",
    "colab_type": "text",
    "cell_id": "00031-cc982935-ae72-459c-97b6-42b7cb224a43",
    "deepnote_cell_type": "markdown"
   }
  },
  {
   "cell_type": "code",
   "metadata": {
    "id": "WZguob_IOMBS",
    "colab_type": "code",
    "colab": {},
    "cell_id": "00032-3e2885aa-9af7-4438-a5b3-ff1de1ef2391",
    "deepnote_cell_type": "code"
   },
   "source": "#write code here\n(sample_rate, input_signal) = scipy.io.wavfile.read(\"./newt.wav\")\n\nt = np.arange(0, len(input_signal)/sample_rate, 1/sample_rate)\n\nplt.figure(figsize=(20,4))\nplt.plot(t, input_signal)\nplt.title('Newt')\nplt.xlabel('time (in seconds)')\nplt.ylabel('amplitude')\n\nAudio(data=input_signal, rate=sample_rate)",
   "execution_count": null,
   "outputs": []
  },
  {
   "cell_type": "markdown",
   "source": "<a style='text-decoration:none;line-height:16px;display:flex;color:#5B5B62;padding:10px;justify-content:end;' href='https://deepnote.com?utm_source=created-in-deepnote-cell&projectId=3d82bae0-f509-4ec0-92dc-a9b1bbc77ba9' target=\"_blank\">\n<img alt='Created in deepnote.com' style='display:inline;max-height:16px;margin:0px;margin-right:7.5px;' src='data:image/svg+xml;base64,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' > </img>\nCreated in <span style='font-weight:600;margin-left:4px;'>Deepnote</span></a>",
   "metadata": {
    "tags": [],
    "created_in_deepnote_cell": true,
    "deepnote_cell_type": "markdown"
   }
  }
 ],
 "nbformat": 4,
 "nbformat_minor": 0,
 "metadata": {
  "colab": {
   "name": "TimeSeries_Exercises.ipynb",
   "provenance": [],
   "collapsed_sections": [],
   "include_colab_link": true
  },
  "kernelspec": {
   "display_name": "Python 3",
   "language": "python",
   "name": "python3"
  },
  "deepnote_notebook_id": "923a7503-33ba-454a-bbaa-0b2829cd6a76",
  "deepnote": {},
  "deepnote_execution_queue": []
 }
}