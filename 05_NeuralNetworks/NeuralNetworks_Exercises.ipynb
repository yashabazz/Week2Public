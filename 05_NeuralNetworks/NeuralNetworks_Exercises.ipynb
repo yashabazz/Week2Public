{
 "cells": [
  {
   "cell_type": "markdown",
   "source": "# Neural Network Exercise\n\nIn this Exercise Notebook you will be building your own artificial neural network and seeing how adding different types of layers can affect the validation/testing accuracy. This is based off of the Simple Neural Network with Keras tutorial, so you can reference that for further explanations as well.",
   "metadata": {
    "id": "PlpG_fIiqdJU",
    "colab_type": "text",
    "cell_id": "00000-2924374e-c03d-4b23-b467-0c9bb4659694",
    "deepnote_cell_type": "markdown"
   }
  },
  {
   "cell_type": "code",
   "metadata": {
    "id": "eFSzOvSduDf8",
    "colab_type": "code",
    "colab": {},
    "cell_id": "00001-43e9712f-334b-478e-b297-f4a774dfd8eb",
    "deepnote_to_be_reexecuted": false,
    "source_hash": "9e6326f3",
    "execution_start": 1626274353394,
    "execution_millis": 6174,
    "deepnote_cell_type": "code"
   },
   "source": "import os\nimport matplotlib.pyplot as plt\nimport pandas as pd\nfrom sklearn.preprocessing import StandardScaler\nfrom sklearn.utils import shuffle\nfrom keras.models import Sequential\nfrom keras.layers import Dense\nimport tensorflow as tf",
   "outputs": [
    {
     "name": "stderr",
     "text": "2021-07-14 14:52:35.145952: W tensorflow/stream_executor/platform/default/dso_loader.cc:60] Could not load dynamic library 'libcudart.so.11.0'; dlerror: libcudart.so.11.0: cannot open shared object file: No such file or directory\n2021-07-14 14:52:35.145992: I tensorflow/stream_executor/cuda/cudart_stub.cc:29] Ignore above cudart dlerror if you do not have a GPU set up on your machine.\n",
     "output_type": "stream"
    }
   ],
   "execution_count": null
  },
  {
   "cell_type": "code",
   "metadata": {
    "id": "Ep_09mlyqa5G",
    "colab_type": "code",
    "colab": {},
    "cell_id": "00002-122165ed-379e-407a-9857-ba7319650efc",
    "deepnote_to_be_reexecuted": false,
    "source_hash": "7a6e8b1d",
    "execution_start": 1626274359578,
    "execution_millis": 307,
    "deepnote_cell_type": "code"
   },
   "source": "os.system('wget https://raw.githubusercontent.com/BeaverWorksMedlytics2020/Data_Public/master/NotebookExampleData/Week2/spoken_digit_manual_features.csv')",
   "outputs": [
    {
     "name": "stderr",
     "text": "--2021-07-14 14:52:39--  https://raw.githubusercontent.com/BeaverWorksMedlytics2020/Data_Public/master/NotebookExampleData/Week2/spoken_digit_manual_features.csv\nResolving raw.githubusercontent.com (raw.githubusercontent.com)... 185.199.111.133, 185.199.110.133, 185.199.109.133, ...\nConnecting to raw.githubusercontent.com (raw.githubusercontent.com)|185.199.111.133|:443... connected.\nHTTP request sent, awaiting response... 200 OK\nLength: 220478 (215K) [text/plain]\nSaving to: ‘spoken_digit_manual_features.csv.13’\n\n     0K .......... .......... .......... .......... .......... 23% 38.9M 0s\n    50K .......... .......... .......... .......... .......... 46% 65.8M 0s\n   100K .......... .......... .......... .......... .......... 69% 86.1M 0s\n   150K .......... .......... .......... .......... .......... 92% 37.3M 0s\n   200K .......... .....                                      100% 94.1M=0.004s\n\n2021-07-14 14:52:39 (52.1 MB/s) - ‘spoken_digit_manual_features.csv.13’ saved [220478/220478]\n\n",
     "output_type": "stream"
    },
    {
     "output_type": "execute_result",
     "execution_count": 2,
     "data": {
      "text/plain": "0"
     },
     "metadata": {}
    }
   ],
   "execution_count": null
  },
  {
   "cell_type": "markdown",
   "source": "## Load Training Data and Pre-processed Features\n\nYour goal is to build a neural network that learns to classify which of the 5 speakers is recorded in a signal sample. Your prediction will be based off of features we've already pre-extracted for you and put into this CSV: spectral centroid `SC`, spectral flatness `SF`, and maximum frequency `MF`.",
   "metadata": {
    "id": "zChcGaqVysRB",
    "colab_type": "text",
    "cell_id": "00003-2891bf63-a3c1-4b9c-9503-ffaefb984dc7",
    "deepnote_cell_type": "markdown"
   }
  },
  {
   "cell_type": "code",
   "metadata": {
    "id": "SVwsmOGvw7jp",
    "colab_type": "code",
    "colab": {},
    "cell_id": "00004-b2e2d971-bb86-4f08-9898-cb680e1ca308",
    "deepnote_to_be_reexecuted": false,
    "source_hash": "acd4a82d",
    "execution_start": 1626274359685,
    "execution_millis": 200,
    "deepnote_cell_type": "code"
   },
   "source": "# Load csv containing raw data, labels, and pre-processed features\nspoken_df = pd.read_csv('spoken_digit_manual_features.csv', index_col = 0)\nprint(spoken_df.head(10))\nprint('\\n')\n\n# Set speakers\nspeakers = set(spoken_df['speaker'])\nprint(f'There are {len(speakers)} unique speakers in the dataset')",
   "outputs": [
    {
     "name": "stdout",
     "text": "                file  digit   speaker  trial           SC        SF  \\\n0   5_yweweler_8.wav      5  yweweler      8  1029.497959  0.397336   \n1    3_george_49.wav      3    george      4  1881.296834  0.387050   \n2  9_yweweler_44.wav      9  yweweler      4  1093.951856  0.394981   \n3  8_yweweler_33.wav      8  yweweler      3  1409.543285  0.487496   \n4      7_theo_34.wav      7      theo      3   887.361601  0.396825   \n5   1_jackson_45.wav      1   jackson      4  1007.568129  0.324100   \n6  6_yweweler_18.wav      6  yweweler      1  1286.701352  0.498813   \n7    9_george_35.wav      9    george      3  1405.092061  0.353083   \n8   9_jackson_32.wav      9   jackson      3  1172.899961  0.477907   \n9    8_george_26.wav      8    george      2  1959.977577  0.462901   \n\n           MF  \n0  745.878340  \n1  323.943662  \n2  244.648318  \n3  392.350401  \n4  130.640309  \n5  216.306156  \n6  400.715564  \n7  447.239693  \n8  114.892780  \n9  320.537966  \n\n\nThere are 5 unique speakers in the dataset\n",
     "output_type": "stream"
    }
   ],
   "execution_count": null
  },
  {
   "cell_type": "markdown",
   "source": "Converting labels to \"onehot\" vectors:",
   "metadata": {
    "id": "mArY7lB4Akv1",
    "colab_type": "text",
    "cell_id": "00005-c3b3f2cc-c76f-4431-83bb-6998ef741f49",
    "deepnote_cell_type": "markdown"
   }
  },
  {
   "cell_type": "code",
   "metadata": {
    "id": "nLRtFkiYAc3N",
    "colab_type": "code",
    "colab": {},
    "cell_id": "00006-bf45e9d2-7044-4741-a4ac-6db9dae7fff1",
    "deepnote_to_be_reexecuted": false,
    "source_hash": "a29d6318",
    "execution_start": 1626274359744,
    "execution_millis": 0,
    "deepnote_cell_type": "code"
   },
   "source": "# Make dictionary to convert from speaker names to indices\nname2int_dict = {name: ind for (ind, name) in enumerate(set(spoken_df['speaker']))}\n\ny_labels = spoken_df['speaker']\n# Set y_labels to be indices of speaker\ny_labels = [name2int_dict[name] for name in y_labels]",
   "outputs": [],
   "execution_count": null
  },
  {
   "cell_type": "markdown",
   "source": "Standardize data and split into train, validation, and test sets:",
   "metadata": {
    "id": "xUhDZMw1A93D",
    "colab_type": "text",
    "cell_id": "00007-fc5835b9-246f-4945-bc7c-262c2493b8ef",
    "deepnote_cell_type": "markdown"
   }
  },
  {
   "cell_type": "code",
   "metadata": {
    "id": "TAuzw6ibA3Es",
    "colab_type": "code",
    "colab": {},
    "cell_id": "00008-7972a6d4-df5d-42d8-8686-45dd60586497",
    "deepnote_to_be_reexecuted": false,
    "source_hash": "524f00d8",
    "execution_start": 1626274359762,
    "execution_millis": 123,
    "deepnote_cell_type": "code"
   },
   "source": "# Downselect to only the 3 columns of the dataset we are learning from, aka the features\nX_data = spoken_df[['SC', 'SF', 'MF']].to_numpy()\n\n# Decide how large to make validation and test sets\nn_val = 250\nn_test = 250\n\n# Shuffle data before partitioning\nX_data, y_labels = shuffle(X_data, y_labels, random_state = 25)\n\n# Partition\nX_data_test, y_labels_test = X_data[:n_test,:], y_labels[:n_test]\nX_data_val, y_labels_val = X_data[n_test:n_test+n_val,:], y_labels[n_test:n_test+n_val]\nX_data_train, y_labels_train = X_data[n_test+n_val:,:], y_labels[n_test+n_val:]\n\n# Scale data\nscaler = StandardScaler()\nX_data_train=scaler.fit_transform(X_data_train)\nX_data_val = scaler.transform(X_data_val)\nX_data_test = scaler.transform(X_data_test)\n\n# Convert labels to onehot\ny_labels_train = tf.keras.utils.to_categorical(y_labels_train, 5)\ny_labels_val =  tf.keras.utils.to_categorical(y_labels_val, 5)\ny_labels_test =  tf.keras.utils.to_categorical(y_labels_test, 5)\n\ntraining_set = tf.data.Dataset.from_tensor_slices((X_data_train, y_labels_train))",
   "outputs": [
    {
     "name": "stderr",
     "text": "2021-07-14 14:52:39.732936: I tensorflow/compiler/jit/xla_cpu_device.cc:41] Not creating XLA devices, tf_xla_enable_xla_devices not set\n2021-07-14 14:52:39.733182: W tensorflow/stream_executor/platform/default/dso_loader.cc:60] Could not load dynamic library 'libcuda.so.1'; dlerror: libcuda.so.1: cannot open shared object file: No such file or directory\n2021-07-14 14:52:39.733200: W tensorflow/stream_executor/cuda/cuda_driver.cc:326] failed call to cuInit: UNKNOWN ERROR (303)\n2021-07-14 14:52:39.733219: I tensorflow/stream_executor/cuda/cuda_diagnostics.cc:156] kernel driver does not appear to be running on this host (p-3d82bae0-f509-4ec0-92dc-a9b1bbc77ba9): /proc/driver/nvidia/version does not exist\n2021-07-14 14:52:39.733596: I tensorflow/core/platform/cpu_feature_guard.cc:142] This TensorFlow binary is optimized with oneAPI Deep Neural Network Library (oneDNN) to use the following CPU instructions in performance-critical operations:  AVX2 AVX512F FMA\nTo enable them in other operations, rebuild TensorFlow with the appropriate compiler flags.\n2021-07-14 14:52:39.733745: I tensorflow/compiler/jit/xla_gpu_device.cc:99] Not creating XLA devices, tf_xla_enable_xla_devices not set\n",
     "output_type": "stream"
    }
   ],
   "execution_count": null
  },
  {
   "cell_type": "markdown",
   "source": "## Aditional Layers\n\nBefore you get to writing your own neural network we'll show you some examples of additional layers you can potetially add that we didn't go over in the tutorial. After reading over our explanations/example code and going through documentation you'll be testing some of these out by putting together a neural network yourself.",
   "metadata": {
    "id": "riycN8SdyxNT",
    "colab_type": "text",
    "cell_id": "00009-1ef9c5a6-b53d-433d-8ab4-118043f4d040",
    "deepnote_cell_type": "markdown"
   }
  },
  {
   "cell_type": "markdown",
   "source": "### Dropout Layers\n\nDropout layers randomly omit, or drop, some elements of the output vector from the layer, which helps prevent overfitting and can improve the generalization of your neural network. The dropout rate can be any number between 0 and 1.\n\nhttps://www.tensorflow.org/api_docs/python/tf/keras/layers/Dropout\n\n```python\n# Example\nd_r = 0.6\ntf.keras.layers.Dropout(rate=d_r)\n```",
   "metadata": {
    "id": "DoaZsqc3iEyv",
    "colab_type": "text",
    "cell_id": "00010-58e9b3da-7bab-401d-9fed-8270f3585e04",
    "deepnote_cell_type": "markdown"
   }
  },
  {
   "cell_type": "markdown",
   "source": "### Pooling Layers\n\nA pooling layer reduces dimensionality (reducing the size of each feature map) and \"compresses\" information by combining several output elements. Two common functions used for pooling are:\n- Average pooling: calculating the average value for each patch on the feature map\n- Max pooling: calculating the maximum value for each patch of the feature map\n\nhttps://www.tensorflow.org/api_docs/python/tf/keras/layers/MaxPool1D\n\n```python\n# Example\ntf.keras.layers.MaxPool1D(pool_size=1)\n```",
   "metadata": {
    "id": "gVJMrZ09iUgk",
    "colab_type": "text",
    "cell_id": "00011-cbcd56f1-7f3a-424a-82c9-c8ec69118409",
    "deepnote_cell_type": "markdown"
   }
  },
  {
   "cell_type": "markdown",
   "source": "### Activation Layers/Functions\n\nAn activation function looks at each \"neuron\" in your neural network and determines whether it should be activated (fired) or not, based on the relevancy of the neuron's input to the model’s predictions. Some different activation functions you could look at are:\n- softmax https://www.tensorflow.org/api_docs/python/tf/keras/layers/Softmax\n- sigmoid https://www.tensorflow.org/api_docs/python/tf/keras/activations/sigmoid\n- softplus https://www.tensorflow.org/api_docs/python/tf/keras/activations/softplus\n- relu https://www.tensorflow.org/api_docs/python/tf/keras/layers/ReLU\n\n```python\n# Example\ntf.keras.layers.Softmax()\n```",
   "metadata": {
    "id": "72ngF_beiaV9",
    "colab_type": "text",
    "cell_id": "00012-2aefafad-7940-4bc2-8832-5731f3835cb0",
    "deepnote_cell_type": "markdown"
   }
  },
  {
   "cell_type": "markdown",
   "source": "### Optimation Functions\n\nOptimation functions\n- Adam https://www.tensorflow.org/api_docs/python/tf/keras/optimizers/Adam\n  - Adam is computationally efficient, has little memory requirement, and is well suited for problems that are large in terms of data/parameter.\n- Adagrad https://www.tensorflow.org/api_docs/python/tf/keras/optimizers/Adagrad\n  - Adagrad is an optimizer that is best used for sparse data. Some of its benefits are that it converges more quickly and doesn't need manual adjustment of the hyperparameter \"learning rate\".\n- SGD https://www.tensorflow.org/api_docs/python/tf/keras/optimizers/SGD\n  - SGD is a stochastic gradient descent and momentum optimizer. SGD essentially helps gradient vectors move down loss functions towards the minimum point, leading to faster \"converging\".\n- RMSprop https://keras.io/api/optimizers/rmsprop/\n  - As you may already know, the learning rate regulates how much the model \ncan change based on the estimated error (which occurs every time the model's weights are updated). Instead of treating the learning rate as a hyperparamter, RMSprop is an optimization technique that uses relies on a changing, adaptive learning rate.\n\n```python\n# Example code\nl_r = .001 \ntf.keras.optimizers.SGD(learning_rate=l_r)\n```",
   "metadata": {
    "id": "zCdxM6HDqR1F",
    "colab_type": "text",
    "cell_id": "00013-ea33730e-2290-4aa5-876d-841f53fc5ece",
    "deepnote_cell_type": "markdown"
   }
  },
  {
   "cell_type": "markdown",
   "source": "## Putting Together Your Neural Network\n\nNow you will experiment with adding different layers to your neural network. We've added some guiding comments to give you a place to start and test out, but we also strongly encourage you to go through all the documetation and do some googling as well!",
   "metadata": {
    "id": "ldbularZ3cCW",
    "colab_type": "text",
    "cell_id": "00014-e7246444-e4ea-4bf0-8b86-f928143eb6c5",
    "deepnote_cell_type": "markdown"
   }
  },
  {
   "cell_type": "code",
   "metadata": {
    "id": "qMp_z7W9vZV4",
    "colab_type": "code",
    "colab": {},
    "cell_id": "00015-be187d53-ac14-47a6-891f-c3199da73f26",
    "deepnote_to_be_reexecuted": false,
    "source_hash": "969824d4",
    "execution_start": 1626286601905,
    "execution_millis": 0,
    "deepnote_cell_type": "code"
   },
   "source": "# Once you've gone through all the tests play around with these rate values to see if you can increase your accuracy\nl_r = .0001\nd_r = 0.6\n\nmodel = tf.keras.Sequential()\nmodel.add(tf.keras.layers.Dense(8, input_shape=(3,)))",
   "outputs": [],
   "execution_count": null
  },
  {
   "cell_type": "markdown",
   "source": "### Test 1",
   "metadata": {
    "id": "8OQKRfNjBWGC",
    "colab_type": "text",
    "cell_id": "00016-eb75610a-0588-44ca-ba07-a1f315ba389b",
    "deepnote_cell_type": "markdown"
   }
  },
  {
   "cell_type": "code",
   "metadata": {
    "id": "BneaEDk-BWj2",
    "colab_type": "code",
    "colab": {},
    "cell_id": "00017-fa0e6c3c-56a4-4da1-8475-5913d48e1e8d",
    "deepnote_to_be_reexecuted": false,
    "source_hash": "2fe2f83e",
    "execution_start": 1626274359805,
    "execution_millis": 0,
    "deepnote_cell_type": "code"
   },
   "source": "# # Run this cell as it is\n# model.add(tf.keras.layers.Dense(8)\n# model.add(tf.keras.layers.Dense(8))\n\n# # output dimension needs to be number of classes in order for each to get a score\n# model.add(tf.keras.layers.Dense(5))\n\n# # Now skip down to the section that compiles and trains your model and run those cells.\n# # Check the pseudo-test accuracy and see how well the bare minimum performed.",
   "outputs": [],
   "execution_count": null
  },
  {
   "cell_type": "markdown",
   "source": "### Test 2",
   "metadata": {
    "id": "djwaQho7_xBt",
    "colab_type": "text",
    "cell_id": "00018-40ecdc8c-e310-4fe8-87ec-f2f26a5bdf70",
    "deepnote_cell_type": "markdown"
   }
  },
  {
   "cell_type": "code",
   "source": "",
   "metadata": {
    "tags": [],
    "cell_id": "00019-c087baca-e0ab-4735-95b2-4c94db7b2ef7",
    "deepnote_cell_type": "code"
   },
   "outputs": [],
   "execution_count": null
  },
  {
   "cell_type": "code",
   "metadata": {
    "id": "o2MQzNEa_ViW",
    "colab_type": "code",
    "colab": {},
    "cell_id": "00019-217ee33d-e084-4ccf-9b2e-364e07cb49d6",
    "deepnote_to_be_reexecuted": false,
    "source_hash": "1edda27e",
    "execution_start": 1626274359805,
    "execution_millis": 1,
    "deepnote_cell_type": "code"
   },
   "source": "# # Add activation layer here\n# model.add(tf.keras.layers.Dense(8))\n# # Add activation layer here\n# model.add(tf.keras.layers.Dense(8))\n# # Add activation layer here \n# model.add(tf.keras.layers.Dense(8))\n\n# # output dimension needs to be number of classes in order for each to get a score\n# model.add(tf.keras.layers.Dense(5))\n\n# # Now skip down to the section that compiles and trains your model and re-run those cells.\n# # What do you notice about the testing/Validation accuracy after Test 2 in comparison to Test 1?",
   "outputs": [],
   "execution_count": null
  },
  {
   "cell_type": "markdown",
   "source": "### Test 3",
   "metadata": {
    "id": "M_pr4L_0Bzt_",
    "colab_type": "text",
    "cell_id": "00020-54666720-b314-4bca-9b36-f1793215f40c",
    "deepnote_cell_type": "markdown"
   }
  },
  {
   "cell_type": "code",
   "metadata": {
    "id": "pb-7sVYkB11c",
    "colab_type": "code",
    "colab": {},
    "cell_id": "00021-65c5b4f7-c71c-4d54-b8c1-2900e93887bc",
    "deepnote_to_be_reexecuted": false,
    "source_hash": "da5a8b1c",
    "execution_start": 1626286605861,
    "execution_millis": 44,
    "deepnote_cell_type": "code"
   },
   "source": "# Add activation layer here\nmodel.add(tf.keras.layers.Dense(8))\n# Add activation layer here\nmodel.add(tf.keras.layers.Dense(8))\n# Add activation layer here \nmodel.add(tf.keras.layers.Dense(8))\n\n# output dimension needs to be number of classes in order for each to get a score\nmodel.add(tf.keras.layers.Dense(5))\n\n# Add dropout layer here\nmodel.add(tf.keras.layers.Dropout(rate=d_r))\n\n# Now skip down to the section that compiles and trains your model and re-run those cells.\n# What do you notice about the testing/Validation accuracy after Test 2 in comparison to Test 1 & 2?",
   "outputs": [],
   "execution_count": null
  },
  {
   "cell_type": "markdown",
   "source": "### Test 4\n\nNow go back down to the cell where you compiled your model, and this time change the optimizer. It's been set to Adam by default but as we showed you above, there are other functions that you can test out.",
   "metadata": {
    "id": "YwjD-MgMDHFV",
    "colab_type": "text",
    "cell_id": "00022-0e62de15-163c-4c9f-8bad-5bcf1db5d234",
    "deepnote_cell_type": "markdown"
   }
  },
  {
   "cell_type": "markdown",
   "source": "## Compiling and Training Your Model",
   "metadata": {
    "id": "Qhna7lr5Dm56",
    "colab_type": "text",
    "cell_id": "00023-79e2b4a4-f8d0-48ee-b3ee-440a913c0ff5",
    "deepnote_cell_type": "markdown"
   }
  },
  {
   "cell_type": "code",
   "metadata": {
    "id": "XB1qNpsoASGv",
    "colab_type": "code",
    "colab": {},
    "cell_id": "00024-a2ff3be1-5ba7-4d9a-99a1-35d2a5319fd5",
    "deepnote_to_be_reexecuted": false,
    "source_hash": "5ef79765",
    "execution_start": 1626286608453,
    "execution_millis": 5,
    "deepnote_cell_type": "code"
   },
   "source": "model.compile(loss = tf.keras.losses.categorical_crossentropy, \n              optimizer = tf.keras.optimizers.RMSprop(learning_rate=l_r),\n              metrics = ['accuracy'])   ",
   "outputs": [],
   "execution_count": null
  },
  {
   "cell_type": "markdown",
   "source": "Fit Model to Data, Specify Number of Epochs and Batch Size:",
   "metadata": {
    "id": "Tj1lwAY7BJPk",
    "colab_type": "text",
    "cell_id": "00025-ba3dd784-7aac-48ed-bc6b-cfa4f3c097af",
    "deepnote_cell_type": "markdown"
   }
  },
  {
   "cell_type": "code",
   "metadata": {
    "id": "uF2RT0eGBIlD",
    "colab_type": "code",
    "colab": {},
    "cell_id": "00026-609b773d-bef3-4250-b52e-1cf89205ea1f",
    "deepnote_to_be_reexecuted": false,
    "source_hash": "3b49c61e",
    "execution_start": 1626286611808,
    "execution_millis": 6555,
    "deepnote_cell_type": "code"
   },
   "source": "EPOCHS = 100\nbatch_size = 100\n\ntraining_set = training_set.batch(batch_size) #set batch size\n\nfor epoch in range(EPOCHS):\n    for signals, labels in training_set:\n        tr_loss, tr_accuracy = model.train_on_batch(signals, labels)\n    val_loss, val_accuracy = model.evaluate(X_data_val, y_labels_val)\n    print(('Epoch #%d\\t Training Loss: %.2f\\tTraining Accuracy: %.2f\\t'\n         'Validation Loss: %.2f\\tValidation Accuracy: %.2f')\n         % (epoch + 1, tr_loss, tr_accuracy,\n         val_loss, val_accuracy))\n",
   "outputs": [
    {
     "name": "stdout",
     "text": "WARNING:tensorflow:Model was constructed with shape (None, 3) for input KerasTensor(type_spec=TensorSpec(shape=(None, 3), dtype=tf.float32, name='dense_10_input'), name='dense_10_input', description=\"created by layer 'dense_10_input'\"), but it was called on an input with incompatible shape (1, 1, 20, 100, 3).\nWARNING:tensorflow:Model was constructed with shape (None, 3) for input KerasTensor(type_spec=TensorSpec(shape=(None, 3), dtype=tf.float32, name='dense_10_input'), name='dense_10_input', description=\"created by layer 'dense_10_input'\"), but it was called on an input with incompatible shape (1, 1, 20, 100, 3).\n8/8 [==============================] - 0s 1ms/step - loss: nan - accuracy: 0.2200\nEpoch #1\t Training Loss: nan\tTraining Accuracy: 0.14\tValidation Loss: nan\tValidation Accuracy: 0.22\n8/8 [==============================] - 0s 1ms/step - loss: nan - accuracy: 0.2200\nEpoch #2\t Training Loss: nan\tTraining Accuracy: 0.20\tValidation Loss: nan\tValidation Accuracy: 0.22\n8/8 [==============================] - 0s 2ms/step - loss: nan - accuracy: 0.2200\nEpoch #3\t Training Loss: nan\tTraining Accuracy: 0.20\tValidation Loss: nan\tValidation Accuracy: 0.22\n8/8 [==============================] - 0s 1ms/step - loss: nan - accuracy: 0.2200\nEpoch #4\t Training Loss: nan\tTraining Accuracy: 0.20\tValidation Loss: nan\tValidation Accuracy: 0.22\n8/8 [==============================] - 0s 1ms/step - loss: nan - accuracy: 0.2200\nEpoch #5\t Training Loss: nan\tTraining Accuracy: 0.20\tValidation Loss: nan\tValidation Accuracy: 0.22\n8/8 [==============================] - 0s 1ms/step - loss: nan - accuracy: 0.2200\nEpoch #6\t Training Loss: nan\tTraining Accuracy: 0.20\tValidation Loss: nan\tValidation Accuracy: 0.22\n8/8 [==============================] - 0s 1ms/step - loss: nan - accuracy: 0.2200\nEpoch #7\t Training Loss: nan\tTraining Accuracy: 0.20\tValidation Loss: nan\tValidation Accuracy: 0.22\n8/8 [==============================] - 0s 1ms/step - loss: nan - accuracy: 0.2200\nEpoch #8\t Training Loss: nan\tTraining Accuracy: 0.20\tValidation Loss: nan\tValidation Accuracy: 0.22\n8/8 [==============================] - 0s 1ms/step - loss: nan - accuracy: 0.2200\nEpoch #9\t Training Loss: nan\tTraining Accuracy: 0.20\tValidation Loss: nan\tValidation Accuracy: 0.22\n8/8 [==============================] - 0s 1ms/step - loss: nan - accuracy: 0.2200\nEpoch #10\t Training Loss: nan\tTraining Accuracy: 0.20\tValidation Loss: nan\tValidation Accuracy: 0.22\n8/8 [==============================] - 0s 985us/step - loss: nan - accuracy: 0.2200\nEpoch #11\t Training Loss: nan\tTraining Accuracy: 0.20\tValidation Loss: nan\tValidation Accuracy: 0.22\n8/8 [==============================] - 0s 1ms/step - loss: nan - accuracy: 0.2200\nEpoch #12\t Training Loss: nan\tTraining Accuracy: 0.20\tValidation Loss: nan\tValidation Accuracy: 0.22\n8/8 [==============================] - 0s 1ms/step - loss: nan - accuracy: 0.2200\nEpoch #13\t Training Loss: nan\tTraining Accuracy: 0.20\tValidation Loss: nan\tValidation Accuracy: 0.22\n8/8 [==============================] - 0s 973us/step - loss: nan - accuracy: 0.2200\nEpoch #14\t Training Loss: nan\tTraining Accuracy: 0.20\tValidation Loss: nan\tValidation Accuracy: 0.22\n8/8 [==============================] - 0s 1ms/step - loss: nan - accuracy: 0.2200\nEpoch #15\t Training Loss: nan\tTraining Accuracy: 0.20\tValidation Loss: nan\tValidation Accuracy: 0.22\n8/8 [==============================] - 0s 979us/step - loss: nan - accuracy: 0.2200\nEpoch #16\t Training Loss: nan\tTraining Accuracy: 0.20\tValidation Loss: nan\tValidation Accuracy: 0.22\n8/8 [==============================] - 0s 1ms/step - loss: nan - accuracy: 0.2200\nEpoch #17\t Training Loss: nan\tTraining Accuracy: 0.20\tValidation Loss: nan\tValidation Accuracy: 0.22\n8/8 [==============================] - 0s 1ms/step - loss: nan - accuracy: 0.2200\nEpoch #18\t Training Loss: nan\tTraining Accuracy: 0.20\tValidation Loss: nan\tValidation Accuracy: 0.22\n8/8 [==============================] - 0s 1ms/step - loss: nan - accuracy: 0.2200\nEpoch #19\t Training Loss: nan\tTraining Accuracy: 0.20\tValidation Loss: nan\tValidation Accuracy: 0.22\n8/8 [==============================] - 0s 1ms/step - loss: nan - accuracy: 0.2200\nEpoch #20\t Training Loss: nan\tTraining Accuracy: 0.20\tValidation Loss: nan\tValidation Accuracy: 0.22\n8/8 [==============================] - 0s 1ms/step - loss: nan - accuracy: 0.2200\nEpoch #21\t Training Loss: nan\tTraining Accuracy: 0.20\tValidation Loss: nan\tValidation Accuracy: 0.22\n8/8 [==============================] - 0s 1ms/step - loss: nan - accuracy: 0.2200\nEpoch #22\t Training Loss: nan\tTraining Accuracy: 0.20\tValidation Loss: nan\tValidation Accuracy: 0.22\n8/8 [==============================] - 0s 989us/step - loss: nan - accuracy: 0.2200\nEpoch #23\t Training Loss: nan\tTraining Accuracy: 0.20\tValidation Loss: nan\tValidation Accuracy: 0.22\n8/8 [==============================] - 0s 984us/step - loss: nan - accuracy: 0.2200\nEpoch #24\t Training Loss: nan\tTraining Accuracy: 0.20\tValidation Loss: nan\tValidation Accuracy: 0.22\n8/8 [==============================] - 0s 1ms/step - loss: nan - accuracy: 0.2200\nEpoch #25\t Training Loss: nan\tTraining Accuracy: 0.20\tValidation Loss: nan\tValidation Accuracy: 0.22\n8/8 [==============================] - 0s 1ms/step - loss: nan - accuracy: 0.2200\nEpoch #26\t Training Loss: nan\tTraining Accuracy: 0.20\tValidation Loss: nan\tValidation Accuracy: 0.22\n8/8 [==============================] - 0s 1ms/step - loss: nan - accuracy: 0.2200\nEpoch #27\t Training Loss: nan\tTraining Accuracy: 0.20\tValidation Loss: nan\tValidation Accuracy: 0.22\n8/8 [==============================] - 0s 3ms/step - loss: nan - accuracy: 0.2200\nEpoch #28\t Training Loss: nan\tTraining Accuracy: 0.20\tValidation Loss: nan\tValidation Accuracy: 0.22\n8/8 [==============================] - 0s 1ms/step - loss: nan - accuracy: 0.2200\nEpoch #29\t Training Loss: nan\tTraining Accuracy: 0.20\tValidation Loss: nan\tValidation Accuracy: 0.22\n8/8 [==============================] - 0s 1ms/step - loss: nan - accuracy: 0.2200\nEpoch #30\t Training Loss: nan\tTraining Accuracy: 0.20\tValidation Loss: nan\tValidation Accuracy: 0.22\n8/8 [==============================] - 0s 1ms/step - loss: nan - accuracy: 0.2200\nEpoch #31\t Training Loss: nan\tTraining Accuracy: 0.20\tValidation Loss: nan\tValidation Accuracy: 0.22\n8/8 [==============================] - 0s 1ms/step - loss: nan - accuracy: 0.2200\nEpoch #32\t Training Loss: nan\tTraining Accuracy: 0.20\tValidation Loss: nan\tValidation Accuracy: 0.22\n8/8 [==============================] - 0s 957us/step - loss: nan - accuracy: 0.2200\nEpoch #33\t Training Loss: nan\tTraining Accuracy: 0.20\tValidation Loss: nan\tValidation Accuracy: 0.22\n8/8 [==============================] - 0s 1ms/step - loss: nan - accuracy: 0.2200\nEpoch #34\t Training Loss: nan\tTraining Accuracy: 0.20\tValidation Loss: nan\tValidation Accuracy: 0.22\n8/8 [==============================] - 0s 1ms/step - loss: nan - accuracy: 0.2200\nEpoch #35\t Training Loss: nan\tTraining Accuracy: 0.20\tValidation Loss: nan\tValidation Accuracy: 0.22\n8/8 [==============================] - 0s 977us/step - loss: nan - accuracy: 0.2200\nEpoch #36\t Training Loss: nan\tTraining Accuracy: 0.20\tValidation Loss: nan\tValidation Accuracy: 0.22\n8/8 [==============================] - 0s 963us/step - loss: nan - accuracy: 0.2200\nEpoch #37\t Training Loss: nan\tTraining Accuracy: 0.20\tValidation Loss: nan\tValidation Accuracy: 0.22\n8/8 [==============================] - 0s 1ms/step - loss: nan - accuracy: 0.2200\nEpoch #38\t Training Loss: nan\tTraining Accuracy: 0.20\tValidation Loss: nan\tValidation Accuracy: 0.22\n8/8 [==============================] - 0s 2ms/step - loss: nan - accuracy: 0.2200\nEpoch #39\t Training Loss: nan\tTraining Accuracy: 0.20\tValidation Loss: nan\tValidation Accuracy: 0.22\n8/8 [==============================] - 0s 2ms/step - loss: nan - accuracy: 0.2200\nEpoch #40\t Training Loss: nan\tTraining Accuracy: 0.20\tValidation Loss: nan\tValidation Accuracy: 0.22\n8/8 [==============================] - 0s 1ms/step - loss: nan - accuracy: 0.2200\nEpoch #41\t Training Loss: nan\tTraining Accuracy: 0.20\tValidation Loss: nan\tValidation Accuracy: 0.22\n8/8 [==============================] - 0s 1ms/step - loss: nan - accuracy: 0.2200\nEpoch #42\t Training Loss: nan\tTraining Accuracy: 0.20\tValidation Loss: nan\tValidation Accuracy: 0.22\n8/8 [==============================] - 0s 1ms/step - loss: nan - accuracy: 0.2200\nEpoch #43\t Training Loss: nan\tTraining Accuracy: 0.20\tValidation Loss: nan\tValidation Accuracy: 0.22\n8/8 [==============================] - 0s 1ms/step - loss: nan - accuracy: 0.2200\nEpoch #44\t Training Loss: nan\tTraining Accuracy: 0.20\tValidation Loss: nan\tValidation Accuracy: 0.22\n8/8 [==============================] - 0s 1ms/step - loss: nan - accuracy: 0.2200\nEpoch #45\t Training Loss: nan\tTraining Accuracy: 0.20\tValidation Loss: nan\tValidation Accuracy: 0.22\n8/8 [==============================] - 0s 1ms/step - loss: nan - accuracy: 0.2200\nEpoch #46\t Training Loss: nan\tTraining Accuracy: 0.20\tValidation Loss: nan\tValidation Accuracy: 0.22\n8/8 [==============================] - 0s 1ms/step - loss: nan - accuracy: 0.2200\nEpoch #47\t Training Loss: nan\tTraining Accuracy: 0.20\tValidation Loss: nan\tValidation Accuracy: 0.22\n8/8 [==============================] - 0s 977us/step - loss: nan - accuracy: 0.2200\nEpoch #48\t Training Loss: nan\tTraining Accuracy: 0.20\tValidation Loss: nan\tValidation Accuracy: 0.22\n8/8 [==============================] - 0s 1ms/step - loss: nan - accuracy: 0.2200\nEpoch #49\t Training Loss: nan\tTraining Accuracy: 0.20\tValidation Loss: nan\tValidation Accuracy: 0.22\n8/8 [==============================] - 0s 1ms/step - loss: nan - accuracy: 0.2200\nEpoch #50\t Training Loss: nan\tTraining Accuracy: 0.20\tValidation Loss: nan\tValidation Accuracy: 0.22\n8/8 [==============================] - 0s 987us/step - loss: nan - accuracy: 0.2200\nEpoch #51\t Training Loss: nan\tTraining Accuracy: 0.20\tValidation Loss: nan\tValidation Accuracy: 0.22\nIOPub message rate exceeded.\nThe notebook server will temporarily stop sending output\nto the client in order to avoid crashing it.\nTo change this limit, set the config variable\n`--NotebookApp.iopub_msg_rate_limit`.\n\nCurrent values:\nNotebookApp.iopub_msg_rate_limit=50.0 (msgs/sec)\nNotebookApp.rate_limit_window=3.0 (secs)\n\n8/8 [==============================] - 0s 1ms/step - loss: nan - accuracy: 0.2200\nEpoch #66\t Training Loss: nan\tTraining Accuracy: 0.20\tValidation Loss: nan\tValidation Accuracy: 0.22\n8/8 [==============================] - 0s 1ms/step - loss: nan - accuracy: 0.2200\nEpoch #67\t Training Loss: nan\tTraining Accuracy: 0.20\tValidation Loss: nan\tValidation Accuracy: 0.22\n8/8 [==============================] - 0s 1ms/step - loss: nan - accuracy: 0.2200\nEpoch #68\t Training Loss: nan\tTraining Accuracy: 0.20\tValidation Loss: nan\tValidation Accuracy: 0.22\n8/8 [==============================] - 0s 1ms/step - loss: nan - accuracy: 0.2200\nEpoch #69\t Training Loss: nan\tTraining Accuracy: 0.20\tValidation Loss: nan\tValidation Accuracy: 0.22\n8/8 [==============================] - 0s 1ms/step - loss: nan - accuracy: 0.2200\nEpoch #70\t Training Loss: nan\tTraining Accuracy: 0.20\tValidation Loss: nan\tValidation Accuracy: 0.22\n8/8 [==============================] - 0s 3ms/step - loss: nan - accuracy: 0.2200\nEpoch #71\t Training Loss: nan\tTraining Accuracy: 0.20\tValidation Loss: nan\tValidation Accuracy: 0.22\n8/8 [==============================] - 0s 2ms/step - loss: nan - accuracy: 0.2200\nEpoch #72\t Training Loss: nan\tTraining Accuracy: 0.20\tValidation Loss: nan\tValidation Accuracy: 0.22\n8/8 [==============================] - 0s 1ms/step - loss: nan - accuracy: 0.2200\nEpoch #73\t Training Loss: nan\tTraining Accuracy: 0.20\tValidation Loss: nan\tValidation Accuracy: 0.22\n8/8 [==============================] - 0s 3ms/step - loss: nan - accuracy: 0.2200\nEpoch #74\t Training Loss: nan\tTraining Accuracy: 0.20\tValidation Loss: nan\tValidation Accuracy: 0.22\n8/8 [==============================] - 0s 1ms/step - loss: nan - accuracy: 0.2200\nEpoch #75\t Training Loss: nan\tTraining Accuracy: 0.20\tValidation Loss: nan\tValidation Accuracy: 0.22\n8/8 [==============================] - 0s 1ms/step - loss: nan - accuracy: 0.2200\nEpoch #76\t Training Loss: nan\tTraining Accuracy: 0.20\tValidation Loss: nan\tValidation Accuracy: 0.22\n8/8 [==============================] - 0s 1ms/step - loss: nan - accuracy: 0.2200\nEpoch #77\t Training Loss: nan\tTraining Accuracy: 0.20\tValidation Loss: nan\tValidation Accuracy: 0.22\n8/8 [==============================] - 0s 1ms/step - loss: nan - accuracy: 0.2200\nEpoch #78\t Training Loss: nan\tTraining Accuracy: 0.20\tValidation Loss: nan\tValidation Accuracy: 0.22\n8/8 [==============================] - 0s 1ms/step - loss: nan - accuracy: 0.2200\nEpoch #79\t Training Loss: nan\tTraining Accuracy: 0.20\tValidation Loss: nan\tValidation Accuracy: 0.22\n8/8 [==============================] - 0s 1ms/step - loss: nan - accuracy: 0.2200\nEpoch #80\t Training Loss: nan\tTraining Accuracy: 0.20\tValidation Loss: nan\tValidation Accuracy: 0.22\n8/8 [==============================] - 0s 2ms/step - loss: nan - accuracy: 0.2200\nEpoch #81\t Training Loss: nan\tTraining Accuracy: 0.20\tValidation Loss: nan\tValidation Accuracy: 0.22\n8/8 [==============================] - 0s 1ms/step - loss: nan - accuracy: 0.2200\nEpoch #82\t Training Loss: nan\tTraining Accuracy: 0.20\tValidation Loss: nan\tValidation Accuracy: 0.22\n8/8 [==============================] - 0s 1ms/step - loss: nan - accuracy: 0.2200\nEpoch #83\t Training Loss: nan\tTraining Accuracy: 0.20\tValidation Loss: nan\tValidation Accuracy: 0.22\n8/8 [==============================] - 0s 1ms/step - loss: nan - accuracy: 0.2200\nEpoch #84\t Training Loss: nan\tTraining Accuracy: 0.20\tValidation Loss: nan\tValidation Accuracy: 0.22\n8/8 [==============================] - 0s 1ms/step - loss: nan - accuracy: 0.2200\nEpoch #85\t Training Loss: nan\tTraining Accuracy: 0.20\tValidation Loss: nan\tValidation Accuracy: 0.22\n8/8 [==============================] - 0s 1ms/step - loss: nan - accuracy: 0.2200\nEpoch #86\t Training Loss: nan\tTraining Accuracy: 0.20\tValidation Loss: nan\tValidation Accuracy: 0.22\n8/8 [==============================] - 0s 1ms/step - loss: nan - accuracy: 0.2200\nEpoch #87\t Training Loss: nan\tTraining Accuracy: 0.20\tValidation Loss: nan\tValidation Accuracy: 0.22\n8/8 [==============================] - 0s 1ms/step - loss: nan - accuracy: 0.2200\nEpoch #88\t Training Loss: nan\tTraining Accuracy: 0.20\tValidation Loss: nan\tValidation Accuracy: 0.22\n8/8 [==============================] - 0s 1ms/step - loss: nan - accuracy: 0.2200\nEpoch #89\t Training Loss: nan\tTraining Accuracy: 0.20\tValidation Loss: nan\tValidation Accuracy: 0.22\n8/8 [==============================] - 0s 1ms/step - loss: nan - accuracy: 0.2200\nEpoch #90\t Training Loss: nan\tTraining Accuracy: 0.20\tValidation Loss: nan\tValidation Accuracy: 0.22\n8/8 [==============================] - 0s 1ms/step - loss: nan - accuracy: 0.2200\nEpoch #91\t Training Loss: nan\tTraining Accuracy: 0.20\tValidation Loss: nan\tValidation Accuracy: 0.22\n8/8 [==============================] - 0s 1ms/step - loss: nan - accuracy: 0.2200\nEpoch #92\t Training Loss: nan\tTraining Accuracy: 0.20\tValidation Loss: nan\tValidation Accuracy: 0.22\n8/8 [==============================] - 0s 1ms/step - loss: nan - accuracy: 0.2200\nEpoch #93\t Training Loss: nan\tTraining Accuracy: 0.20\tValidation Loss: nan\tValidation Accuracy: 0.22\n8/8 [==============================] - 0s 1ms/step - loss: nan - accuracy: 0.2200\nEpoch #94\t Training Loss: nan\tTraining Accuracy: 0.20\tValidation Loss: nan\tValidation Accuracy: 0.22\n8/8 [==============================] - 0s 1ms/step - loss: nan - accuracy: 0.2200\nEpoch #95\t Training Loss: nan\tTraining Accuracy: 0.20\tValidation Loss: nan\tValidation Accuracy: 0.22\n8/8 [==============================] - 0s 1ms/step - loss: nan - accuracy: 0.2200\nEpoch #96\t Training Loss: nan\tTraining Accuracy: 0.20\tValidation Loss: nan\tValidation Accuracy: 0.22\n8/8 [==============================] - 0s 1ms/step - loss: nan - accuracy: 0.2200\nEpoch #97\t Training Loss: nan\tTraining Accuracy: 0.20\tValidation Loss: nan\tValidation Accuracy: 0.22\n8/8 [==============================] - 0s 1ms/step - loss: nan - accuracy: 0.2200\nEpoch #98\t Training Loss: nan\tTraining Accuracy: 0.20\tValidation Loss: nan\tValidation Accuracy: 0.22\n8/8 [==============================] - 0s 1ms/step - loss: nan - accuracy: 0.2200\nEpoch #99\t Training Loss: nan\tTraining Accuracy: 0.20\tValidation Loss: nan\tValidation Accuracy: 0.22\n8/8 [==============================] - 0s 1ms/step - loss: nan - accuracy: 0.2200\nEpoch #100\t Training Loss: nan\tTraining Accuracy: 0.20\tValidation Loss: nan\tValidation Accuracy: 0.22\n",
     "output_type": "stream"
    }
   ],
   "execution_count": null
  },
  {
   "cell_type": "code",
   "metadata": {
    "id": "4GipGyEkBQdj",
    "colab_type": "code",
    "colab": {},
    "cell_id": "00027-1f4cde46-8905-442f-b266-c375c93bd250",
    "deepnote_to_be_reexecuted": false,
    "source_hash": "29dc4eb9",
    "execution_start": 1626286624329,
    "execution_millis": 48,
    "deepnote_cell_type": "code"
   },
   "source": "#Check Performance on Test Set\ntest_loss, test_accuracy = model.evaluate(X_data_test, y_labels_test)",
   "outputs": [
    {
     "name": "stdout",
     "text": "8/8 [==============================] - 0s 1ms/step - loss: nan - accuracy: 0.1760\n",
     "output_type": "stream"
    }
   ],
   "execution_count": null
  },
  {
   "cell_type": "markdown",
   "source": "Now modify the existing model even more, and try to find the highest and appropriate testing and validation accuracy!",
   "metadata": {
    "id": "maTNvEQpbkoS",
    "colab_type": "text",
    "cell_id": "00028-dfcc64d2-d517-4461-9e97-0835180eee4b",
    "deepnote_cell_type": "markdown"
   }
  },
  {
   "cell_type": "markdown",
   "source": "",
   "metadata": {
    "tags": [],
    "cell_id": "00029-50ba857b-b40f-4246-a7c5-74724c812fe8",
    "deepnote_cell_type": "markdown"
   }
  },
  {
   "cell_type": "markdown",
   "source": "",
   "metadata": {
    "tags": [],
    "cell_id": "00030-551103bd-45c5-4531-a70b-97cd9454292d",
    "deepnote_cell_type": "markdown"
   }
  },
  {
   "cell_type": "markdown",
   "source": "",
   "metadata": {
    "tags": [],
    "cell_id": "00031-eaced16e-0501-4095-b17f-569af808c45b",
    "deepnote_cell_type": "markdown"
   }
  },
  {
   "cell_type": "markdown",
   "source": "",
   "metadata": {
    "tags": [],
    "cell_id": "00032-b9b2f80c-247c-4d10-9f42-b15bb42f3d4a",
    "deepnote_cell_type": "markdown"
   }
  },
  {
   "cell_type": "markdown",
   "source": "",
   "metadata": {
    "tags": [],
    "cell_id": "00033-0497d537-3be0-497a-8aff-99fbf479a0bb",
    "deepnote_cell_type": "markdown"
   }
  },
  {
   "cell_type": "markdown",
   "source": "",
   "metadata": {
    "tags": [],
    "cell_id": "00034-29730f65-e9c3-41f1-98fb-a7dfa7714435",
    "deepnote_cell_type": "markdown"
   }
  },
  {
   "cell_type": "markdown",
   "source": "",
   "metadata": {
    "tags": [],
    "cell_id": "00035-e220a113-6320-4ac1-8942-71469c13b20a",
    "deepnote_cell_type": "markdown"
   }
  },
  {
   "cell_type": "markdown",
   "source": "",
   "metadata": {
    "tags": [],
    "cell_id": "00036-4d951380-e6e2-4f48-8714-e3b39d9ba247",
    "deepnote_cell_type": "markdown"
   }
  },
  {
   "cell_type": "markdown",
   "source": "",
   "metadata": {
    "tags": [],
    "cell_id": "00037-098d7099-1b77-418b-a9d2-58ffde4ef852",
    "deepnote_cell_type": "markdown"
   }
  },
  {
   "cell_type": "markdown",
   "source": "<a style='text-decoration:none;line-height:16px;display:flex;color:#5B5B62;padding:10px;justify-content:end;' href='https://deepnote.com?utm_source=created-in-deepnote-cell&projectId=3d82bae0-f509-4ec0-92dc-a9b1bbc77ba9' target=\"_blank\">\n<img alt='Created in deepnote.com' style='display:inline;max-height:16px;margin:0px;margin-right:7.5px;' src='data:image/svg+xml;base64,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' > </img>\nCreated in <span style='font-weight:600;margin-left:4px;'>Deepnote</span></a>",
   "metadata": {
    "tags": [],
    "created_in_deepnote_cell": true,
    "deepnote_cell_type": "markdown"
   }
  }
 ],
 "nbformat": 4,
 "nbformat_minor": 0,
 "metadata": {
  "colab": {
   "name": "NeuralNetworks_Exercises.ipynb",
   "provenance": [],
   "collapsed_sections": []
  },
  "kernelspec": {
   "name": "python3",
   "display_name": "Python 3"
  },
  "deepnote_notebook_id": "80d67b18-73cc-476a-b75a-768a108edb83",
  "deepnote": {},
  "deepnote_execution_queue": []
 }
}