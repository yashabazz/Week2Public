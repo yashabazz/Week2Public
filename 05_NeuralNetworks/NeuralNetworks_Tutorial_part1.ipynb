{
 "cells": [
  {
   "cell_type": "markdown",
   "source": "<a href=\"https://colab.research.google.com/github/BeaverWorksMedlytics2020/Week2/blob/master/Notebooks/05_NeuralNetworks/NeuralNetworks_Tutorial_part1.ipynb\" target=\"_parent\"><img src=\"https://colab.research.google.com/assets/colab-badge.svg\" alt=\"Open In Colab\"/></a>",
   "metadata": {
    "id": "view-in-github",
    "colab_type": "text",
    "cell_id": "00000-c435de18-e9a1-41f9-8804-febf2b23ba8a",
    "deepnote_cell_type": "markdown"
   }
  },
  {
   "cell_type": "markdown",
   "source": "## Building a Simple Neural Network with Tensorflow Keras\n\nIn this notebook we are going to walk through building a simple neural network to classify sequence data. This tutorial will be meant as a fast overview of building/training neural networks with Keras.",
   "metadata": {
    "id": "PlpG_fIiqdJU",
    "colab_type": "text",
    "cell_id": "00001-8c022e89-1456-4da2-b871-5cab77c5d79a",
    "deepnote_cell_type": "markdown"
   }
  },
  {
   "cell_type": "code",
   "metadata": {
    "id": "eFSzOvSduDf8",
    "colab_type": "code",
    "colab": {
     "base_uri": "https://localhost:8080/",
     "height": 34
    },
    "outputId": "61c63452-faa5-499b-852b-080a0a7b6c0a",
    "cell_id": "00002-09a0c46f-52a7-4db0-a1e2-f6da0696e521",
    "deepnote_to_be_reexecuted": false,
    "source_hash": "799af7d0",
    "execution_start": 1626271903228,
    "execution_millis": 3494,
    "deepnote_cell_type": "code"
   },
   "source": "# Import useful libraries\n\n#Needed for terminal functions (i.e. wget)\nimport os\n\n#For plotting\nimport matplotlib.pyplot as plt\n\n#For dataframe manipulation\nimport pandas as pd\n\n#For data preprocessing\nfrom sklearn.preprocessing import StandardScaler #Use StandardScaler from scikitlearn\nfrom sklearn.utils import shuffle #Used to shuffle up examples before training\n\n#Keras-related imports\nfrom keras.models import Sequential  #we will build our models layer by layer\nfrom keras.layers import Dense  #we want to use dense layers in our model\n\n#Keras is built on top of tensorflow library\nimport tensorflow as tf #tf has many helpful functions for training networks like loss functions, optimization methods, etc.",
   "outputs": [
    {
     "name": "stderr",
     "text": "2021-07-14 14:11:44.680961: W tensorflow/stream_executor/platform/default/dso_loader.cc:60] Could not load dynamic library 'libcudart.so.11.0'; dlerror: libcudart.so.11.0: cannot open shared object file: No such file or directory\n2021-07-14 14:11:44.681041: I tensorflow/stream_executor/cuda/cudart_stub.cc:29] Ignore above cudart dlerror if you do not have a GPU set up on your machine.\n",
     "output_type": "stream"
    }
   ],
   "execution_count": null
  },
  {
   "cell_type": "code",
   "metadata": {
    "id": "Ep_09mlyqa5G",
    "colab_type": "code",
    "colab": {
     "base_uri": "https://localhost:8080/",
     "height": 34
    },
    "outputId": "2fea20bb-a35c-40a4-e329-13dc1d796926",
    "cell_id": "00003-edb6ba5f-6390-42bc-b135-f87bdf445b3e",
    "deepnote_to_be_reexecuted": false,
    "source_hash": "13fd0ae6",
    "execution_start": 1626271906730,
    "execution_millis": 59,
    "deepnote_cell_type": "code"
   },
   "source": "#Load the dataframe that contains all features calculated in the last notebook (only run once)\nos.system('wget https://raw.githubusercontent.com/BeaverWorksMedlytics2020/Data_Public/master/NotebookExampleData/Week2/spoken_digit_manual_features.csv')",
   "outputs": [
    {
     "name": "stderr",
     "text": "--2021-07-14 14:11:46--  https://raw.githubusercontent.com/BeaverWorksMedlytics2020/Data_Public/master/NotebookExampleData/Week2/spoken_digit_manual_features.csv\nResolving raw.githubusercontent.com (raw.githubusercontent.com)... 185.199.110.133, 185.199.109.133, 185.199.111.133, ...\nConnecting to raw.githubusercontent.com (raw.githubusercontent.com)|185.199.110.133|:443... connected.\nHTTP request sent, awaiting response... 200 OK\nLength: 220478 (215K) [text/plain]\nSaving to: ‘spoken_digit_manual_features.csv.2’\n\n     0K .......... .......... .......... .......... .......... 23% 32.6M 0s\n    50K .......... .......... .......... .......... .......... 46% 33.6M 0s\n   100K .......... .......... .......... .......... .......... 69% 38.3M 0s\n   150K .......... .......... .......... .......... .......... 92% 55.0M 0s\n   200K .......... .....                                      100% 50.8M=0.005s\n\n2021-07-14 14:11:46 (38.9 MB/s) - ‘spoken_digit_manual_features.csv.2’ saved [220478/220478]\n\n",
     "output_type": "stream"
    },
    {
     "output_type": "execute_result",
     "execution_count": 2,
     "data": {
      "text/plain": "0"
     },
     "metadata": {}
    }
   ],
   "execution_count": null
  },
  {
   "cell_type": "markdown",
   "source": "## Load Training Data",
   "metadata": {
    "id": "zChcGaqVysRB",
    "colab_type": "text",
    "cell_id": "00004-70a1d7a6-98ac-41a9-b0fb-e0b2db304b3f",
    "deepnote_cell_type": "markdown"
   }
  },
  {
   "cell_type": "code",
   "metadata": {
    "id": "SVwsmOGvw7jp",
    "colab_type": "code",
    "colab": {
     "base_uri": "https://localhost:8080/",
     "height": 255
    },
    "outputId": "8cc4a4d8-7200-494b-951c-8ced02534ac3",
    "cell_id": "00005-d4787d90-3b42-476c-82fc-089900b07182",
    "deepnote_to_be_reexecuted": false,
    "source_hash": "35ce5b77",
    "execution_start": 1626271908385,
    "execution_millis": 27,
    "deepnote_cell_type": "code"
   },
   "source": "#Load dataframe and print its contents to jog memory\nspoken_df = pd.read_csv('spoken_digit_manual_features.csv', index_col = 0)\nprint(spoken_df.head(10))\nprint('\\n')\n\n#Check how many unique speakers exist in the dataset\nspeakers=set(spoken_df['speaker'])\nprint(f'There are {len(speakers)} unique speakers in the dataset')\n\n# Our goal for this is to build a neural network that learns to classify which\n# of 5 speakers is recorded in a sample based on the features:\n# spectral centroid, spectral flatness, and maximum frequency\n",
   "outputs": [
    {
     "name": "stdout",
     "text": "                file  digit   speaker  trial           SC        SF  \\\n0   5_yweweler_8.wav      5  yweweler      8  1029.497959  0.397336   \n1    3_george_49.wav      3    george      4  1881.296834  0.387050   \n2  9_yweweler_44.wav      9  yweweler      4  1093.951856  0.394981   \n3  8_yweweler_33.wav      8  yweweler      3  1409.543285  0.487496   \n4      7_theo_34.wav      7      theo      3   887.361601  0.396825   \n5   1_jackson_45.wav      1   jackson      4  1007.568129  0.324100   \n6  6_yweweler_18.wav      6  yweweler      1  1286.701352  0.498813   \n7    9_george_35.wav      9    george      3  1405.092061  0.353083   \n8   9_jackson_32.wav      9   jackson      3  1172.899961  0.477907   \n9    8_george_26.wav      8    george      2  1959.977577  0.462901   \n\n           MF  \n0  745.878340  \n1  323.943662  \n2  244.648318  \n3  392.350401  \n4  130.640309  \n5  216.306156  \n6  400.715564  \n7  447.239693  \n8  114.892780  \n9  320.537966  \n\n\nThere are 5 unique speakers in the dataset\n",
     "output_type": "stream"
    }
   ],
   "execution_count": null
  },
  {
   "cell_type": "markdown",
   "source": "## Structure Neural Network",
   "metadata": {
    "id": "riycN8SdyxNT",
    "colab_type": "text",
    "cell_id": "00006-453a2f56-363b-4b45-ac44-42d426b2413c",
    "deepnote_cell_type": "markdown"
   }
  },
  {
   "cell_type": "code",
   "metadata": {
    "id": "qMp_z7W9vZV4",
    "colab_type": "code",
    "colab": {},
    "cell_id": "00007-33905dd7-2bb0-4e0c-8207-2e0b47abbb0f",
    "deepnote_to_be_reexecuted": false,
    "source_hash": "6ba8b094",
    "execution_start": 1626271911414,
    "execution_millis": 77,
    "deepnote_cell_type": "code"
   },
   "source": "# Build the keras neural network\n\n#this allows us to add layers sequentially (i.e. first->last)\nmodel = tf.keras.Sequential()\n\n#create a first layer of 12 neurons, and a rectified linear unit activation function\nmodel.add(tf.keras.layers.Dense(8, input_shape=(3,), activation=tf.nn.relu)) #input dimension needs to be number of features\n\n#add two dense layers with 8 units each\n#(note that we don't need to specify input size because keras determines input size from previous layer)\nmodel.add(tf.keras.layers.Dense(8, activation=tf.nn.relu))\nmodel.add(tf.keras.layers.Dense(8, activation=tf.nn.relu))\n\n# output dimension needs to be number of classes in order for each to get a score\nmodel.add(tf.keras.layers.Dense(5, activation=tf.nn.softmax)) ",
   "outputs": [
    {
     "name": "stderr",
     "text": "2021-07-14 14:11:51.440786: I tensorflow/compiler/jit/xla_cpu_device.cc:41] Not creating XLA devices, tf_xla_enable_xla_devices not set\n2021-07-14 14:11:51.441023: W tensorflow/stream_executor/platform/default/dso_loader.cc:60] Could not load dynamic library 'libcuda.so.1'; dlerror: libcuda.so.1: cannot open shared object file: No such file or directory\n2021-07-14 14:11:51.441036: W tensorflow/stream_executor/cuda/cuda_driver.cc:326] failed call to cuInit: UNKNOWN ERROR (303)\n2021-07-14 14:11:51.441056: I tensorflow/stream_executor/cuda/cuda_diagnostics.cc:156] kernel driver does not appear to be running on this host (p-3d82bae0-f509-4ec0-92dc-a9b1bbc77ba9): /proc/driver/nvidia/version does not exist\n2021-07-14 14:11:51.441297: I tensorflow/core/platform/cpu_feature_guard.cc:142] This TensorFlow binary is optimized with oneAPI Deep Neural Network Library (oneDNN) to use the following CPU instructions in performance-critical operations:  AVX2 AVX512F FMA\nTo enable them in other operations, rebuild TensorFlow with the appropriate compiler flags.\n2021-07-14 14:11:51.441405: I tensorflow/compiler/jit/xla_gpu_device.cc:99] Not creating XLA devices, tf_xla_enable_xla_devices not set\n",
     "output_type": "stream"
    }
   ],
   "execution_count": null
  },
  {
   "cell_type": "markdown",
   "source": "## Specify a Loss Function and an Optimizer for NN Model\n\nLet's describe why each of these components is necessary, and how it is used in training a neural network.\n\n**Loss Function** - This is the quantity that should be minimized when the network is trained. (It is like the mean squared error for a linear regression.) A neural network can use squared error as a loss function, but there are also other options. In the case of a neural network trying to classify samples into 1 of n categories system a common choice is called cross entropy loss.\n\n**Optimizer** - When a neural network is trained, it changes weights in the network to minimize the loss function. The optimizer governs how the neural network iteratively changes its weights as it minimizes loss. Many optimizers use the derivative of the loss function with respect to all the weights to decide which direction to change network weights.",
   "metadata": {
    "id": "9p9UDYX-y_v9",
    "colab_type": "text",
    "cell_id": "00008-e0daed1c-0445-41de-b4e5-0f0b9ef401c6",
    "deepnote_cell_type": "markdown"
   }
  },
  {
   "cell_type": "code",
   "metadata": {
    "id": "fKRMZVOkyoUP",
    "colab_type": "code",
    "colab": {},
    "cell_id": "00009-9ec0b8ed-200f-431b-b7d5-ef8f75ec33c9",
    "deepnote_to_be_reexecuted": false,
    "source_hash": "c6c76eb4",
    "execution_start": 1626271950150,
    "execution_millis": 58852513,
    "deepnote_cell_type": "code"
   },
   "source": "#Specify a loss function for our network\n\n#Note that the metrics input argument governs what will be reported as the network is trained \nmodel.compile(loss = tf.keras.losses.categorical_crossentropy, optimizer = tf.keras.optimizers.Adam(learning_rate=0.01) , metrics = ['accuracy'])\n",
   "outputs": [],
   "execution_count": null
  },
  {
   "cell_type": "markdown",
   "source": "## Convert Labels into \"Onehot\" Vectors\n\nPredictions output by the model need to be compared to some truth label. Currently, the model predicts a 5-element vector of \"prediction values\" for every sample. The truth labels thus need to be converted to a 5-element vector with a 1 in the correct index and zeros in all others",
   "metadata": {
    "id": "xgP9AW_KSDuy",
    "colab_type": "text",
    "cell_id": "00010-38f18322-ae09-41a4-a105-05f9fb5b9bef",
    "deepnote_cell_type": "markdown"
   }
  },
  {
   "cell_type": "code",
   "metadata": {
    "id": "Ix3lG15TSo42",
    "colab_type": "code",
    "colab": {},
    "cell_id": "00011-2b290009-e61e-459e-9352-c7b1d2f409b1",
    "deepnote_to_be_reexecuted": false,
    "source_hash": "26e8948e",
    "execution_start": 1626271959156,
    "execution_millis": 0,
    "deepnote_cell_type": "code"
   },
   "source": "#make dictionary to convert from speaker names to indices\nname2int_dict = {name: ind for (ind, name) in enumerate(set(spoken_df['speaker']))}\n\ny_labels = spoken_df['speaker']\n#set y_labels to be indices of speaker\ny_labels = [name2int_dict[name] for name in y_labels]\n",
   "outputs": [],
   "execution_count": null
  },
  {
   "cell_type": "markdown",
   "source": "## Standardize Data and split into train/validation/test sets\n\nScaling data is generally good practice before attempting to fit a model. Having inputs with large differences in scale can affect how the optimizer changes weights to minimize the loss function",
   "metadata": {
    "id": "uegmriZU29sA",
    "colab_type": "text",
    "cell_id": "00012-3d60f33d-18a0-48e6-bd54-2d7d1237f68b",
    "deepnote_cell_type": "markdown"
   }
  },
  {
   "cell_type": "code",
   "metadata": {
    "id": "HM-ON_x930fu",
    "colab_type": "code",
    "colab": {},
    "cell_id": "00013-08989868-9900-4d6a-a076-3d0711636538",
    "deepnote_to_be_reexecuted": false,
    "source_hash": "6de1e3a5",
    "execution_start": 1626271965676,
    "execution_millis": 8,
    "deepnote_cell_type": "code"
   },
   "source": "#downselect to only the 3 columns of the dataset we are learning from\nX_data = spoken_df[['SC', 'SF', 'MF']].to_numpy()\n\n#Decide how large to make validation and test sets\nn_val = 250\nn_test = 250\n\n#Shuffle data before partitioning\nX_data, y_labels = shuffle(X_data, y_labels, random_state = 25)\n\n#Partition\nX_data_test, y_labels_test = X_data[:n_test,:], y_labels[:n_test]\nX_data_val, y_labels_val = X_data[n_test:n_test+n_val,:], y_labels[n_test:n_test+n_val]\nX_data_train, y_labels_train = X_data[n_test+n_val:,:], y_labels[n_test+n_val:]\n\n#Scale data\nscaler = StandardScaler()\nX_data_train=scaler.fit_transform(X_data_train)\nX_data_val = scaler.transform(X_data_val)\nX_data_test = scaler.transform(X_data_test)\n\n#convert labels to onehot\ny_labels_train = tf.keras.utils.to_categorical(y_labels_train, 5)\ny_labels_val =  tf.keras.utils.to_categorical(y_labels_val, 5)\ny_labels_test =  tf.keras.utils.to_categorical(y_labels_test, 5)\n\ntraining_set = tf.data.Dataset.from_tensor_slices((X_data_train, y_labels_train))",
   "outputs": [],
   "execution_count": null
  },
  {
   "cell_type": "markdown",
   "source": "## Fit Model to Data, Specify Number of Epochs and Batch Size\n\n**Batch Size** - In each iteration of the optimizer, how many samples are taken into account when calculating derivatives of the loss function? (If batch size is less than number of samples, there will be multiple optimization iterations per epoch.)\n\n**Epochs** - How many times should the data be passed through before optimization is finished?",
   "metadata": {
    "id": "DnDGqneBOsW_",
    "colab_type": "text",
    "cell_id": "00014-8ebe21ad-a12b-4afa-a94b-96d35e244323",
    "deepnote_cell_type": "markdown"
   }
  },
  {
   "cell_type": "code",
   "metadata": {
    "id": "nkeUHhxZ3iOF",
    "colab_type": "code",
    "colab": {
     "base_uri": "https://localhost:8080/",
     "height": 1000
    },
    "outputId": "fd52264a-8db8-4abf-85e4-da0bf7a8c2b1",
    "cell_id": "00015-60c7c9e9-f9d7-46a0-9524-6a0761381c13",
    "deepnote_to_be_reexecuted": false,
    "source_hash": "6de8a191",
    "execution_start": 1626271969236,
    "execution_millis": 8085,
    "deepnote_cell_type": "code"
   },
   "source": "epochs = 50\nbatch_size = 100\n\ntraining_set = training_set.batch(batch_size) #set batch size\n\nfor epoch in range(epochs):\n    for signals, labels in training_set:\n        tr_loss, tr_accuracy = model.train_on_batch(signals, labels)\n    val_loss, val_accuracy = model.evaluate(X_data_val, y_labels_val)\n    print(('Epoch #%d\\t Training Loss: %.2f\\tTraining Accuracy: %.2f\\t'\n         'Validation Loss: %.2f\\tValidation Accuracy: %.2f')\n         % (epoch + 1, tr_loss, tr_accuracy,\n         val_loss, val_accuracy))",
   "outputs": [
    {
     "name": "stderr",
     "text": "2021-07-14 14:12:49.548057: I tensorflow/compiler/mlir/mlir_graph_optimization_pass.cc:116] None of the MLIR optimization passes are enabled (registered 2)\n2021-07-14 14:12:49.567821: I tensorflow/core/platform/profile_utils/cpu_utils.cc:112] CPU Frequency: 2500005000 Hz\n8/8 [==============================] - 0s 1ms/step - loss: 1.4481 - accuracy: 0.3880\nEpoch #1\t Training Loss: 1.43\tTraining Accuracy: 0.43\tValidation Loss: 1.45\tValidation Accuracy: 0.39\n8/8 [==============================] - 0s 1ms/step - loss: 1.2369 - accuracy: 0.5080\nEpoch #2\t Training Loss: 1.19\tTraining Accuracy: 0.51\tValidation Loss: 1.24\tValidation Accuracy: 0.51\n8/8 [==============================] - 0s 1ms/step - loss: 1.1511 - accuracy: 0.5480\nEpoch #3\t Training Loss: 1.14\tTraining Accuracy: 0.50\tValidation Loss: 1.15\tValidation Accuracy: 0.55\n8/8 [==============================] - 0s 1ms/step - loss: 1.1085 - accuracy: 0.5280\nEpoch #4\t Training Loss: 1.12\tTraining Accuracy: 0.49\tValidation Loss: 1.11\tValidation Accuracy: 0.53\n8/8 [==============================] - 0s 1ms/step - loss: 1.0908 - accuracy: 0.5320\nEpoch #5\t Training Loss: 1.10\tTraining Accuracy: 0.48\tValidation Loss: 1.09\tValidation Accuracy: 0.53\n8/8 [==============================] - 0s 1ms/step - loss: 1.0837 - accuracy: 0.5360\nEpoch #6\t Training Loss: 1.09\tTraining Accuracy: 0.51\tValidation Loss: 1.08\tValidation Accuracy: 0.54\n8/8 [==============================] - 0s 998us/step - loss: 1.0651 - accuracy: 0.5480\nEpoch #7\t Training Loss: 1.08\tTraining Accuracy: 0.54\tValidation Loss: 1.07\tValidation Accuracy: 0.55\n8/8 [==============================] - 0s 1ms/step - loss: 1.0486 - accuracy: 0.5520\nEpoch #8\t Training Loss: 1.08\tTraining Accuracy: 0.51\tValidation Loss: 1.05\tValidation Accuracy: 0.55\n8/8 [==============================] - 0s 1ms/step - loss: 1.0343 - accuracy: 0.5560\nEpoch #9\t Training Loss: 1.08\tTraining Accuracy: 0.51\tValidation Loss: 1.03\tValidation Accuracy: 0.56\n8/8 [==============================] - 0s 1ms/step - loss: 1.0269 - accuracy: 0.5760\nEpoch #10\t Training Loss: 1.07\tTraining Accuracy: 0.50\tValidation Loss: 1.03\tValidation Accuracy: 0.58\n8/8 [==============================] - 0s 1ms/step - loss: 1.0240 - accuracy: 0.5760\nEpoch #11\t Training Loss: 1.07\tTraining Accuracy: 0.50\tValidation Loss: 1.02\tValidation Accuracy: 0.58\n8/8 [==============================] - 0s 1ms/step - loss: 1.0208 - accuracy: 0.5720\nEpoch #12\t Training Loss: 1.08\tTraining Accuracy: 0.49\tValidation Loss: 1.02\tValidation Accuracy: 0.57\n8/8 [==============================] - 0s 1ms/step - loss: 1.0163 - accuracy: 0.5840\nEpoch #13\t Training Loss: 1.07\tTraining Accuracy: 0.48\tValidation Loss: 1.02\tValidation Accuracy: 0.58\n8/8 [==============================] - 0s 1ms/step - loss: 1.0104 - accuracy: 0.5800\nEpoch #14\t Training Loss: 1.07\tTraining Accuracy: 0.49\tValidation Loss: 1.01\tValidation Accuracy: 0.58\n8/8 [==============================] - 0s 1ms/step - loss: 1.0043 - accuracy: 0.5840\nEpoch #15\t Training Loss: 1.06\tTraining Accuracy: 0.50\tValidation Loss: 1.00\tValidation Accuracy: 0.58\n8/8 [==============================] - 0s 1ms/step - loss: 0.9969 - accuracy: 0.5920\nEpoch #16\t Training Loss: 1.06\tTraining Accuracy: 0.49\tValidation Loss: 1.00\tValidation Accuracy: 0.59\n8/8 [==============================] - 0s 1ms/step - loss: 0.9887 - accuracy: 0.5800\nEpoch #17\t Training Loss: 1.06\tTraining Accuracy: 0.48\tValidation Loss: 0.99\tValidation Accuracy: 0.58\n8/8 [==============================] - 0s 1ms/step - loss: 0.9821 - accuracy: 0.5880\nEpoch #18\t Training Loss: 1.05\tTraining Accuracy: 0.49\tValidation Loss: 0.98\tValidation Accuracy: 0.59\n8/8 [==============================] - 0s 1ms/step - loss: 0.9816 - accuracy: 0.5720\nEpoch #19\t Training Loss: 1.04\tTraining Accuracy: 0.49\tValidation Loss: 0.98\tValidation Accuracy: 0.57\n8/8 [==============================] - 0s 1ms/step - loss: 0.9806 - accuracy: 0.5760\nEpoch #20\t Training Loss: 1.03\tTraining Accuracy: 0.51\tValidation Loss: 0.98\tValidation Accuracy: 0.58\n8/8 [==============================] - 0s 1ms/step - loss: 0.9799 - accuracy: 0.5800\nEpoch #21\t Training Loss: 1.03\tTraining Accuracy: 0.52\tValidation Loss: 0.98\tValidation Accuracy: 0.58\n8/8 [==============================] - 0s 1ms/step - loss: 0.9781 - accuracy: 0.5800\nEpoch #22\t Training Loss: 1.01\tTraining Accuracy: 0.53\tValidation Loss: 0.98\tValidation Accuracy: 0.58\n8/8 [==============================] - 0s 1ms/step - loss: 0.9695 - accuracy: 0.5840\nEpoch #23\t Training Loss: 1.01\tTraining Accuracy: 0.55\tValidation Loss: 0.97\tValidation Accuracy: 0.58\n8/8 [==============================] - 0s 2ms/step - loss: 0.9668 - accuracy: 0.5880\nEpoch #24\t Training Loss: 1.00\tTraining Accuracy: 0.54\tValidation Loss: 0.97\tValidation Accuracy: 0.59\n8/8 [==============================] - 0s 1ms/step - loss: 0.9612 - accuracy: 0.5880\nEpoch #25\t Training Loss: 1.00\tTraining Accuracy: 0.56\tValidation Loss: 0.96\tValidation Accuracy: 0.59\n8/8 [==============================] - 0s 1ms/step - loss: 0.9590 - accuracy: 0.5880\nEpoch #26\t Training Loss: 1.00\tTraining Accuracy: 0.56\tValidation Loss: 0.96\tValidation Accuracy: 0.59\n8/8 [==============================] - 0s 1ms/step - loss: 0.9520 - accuracy: 0.5880\nEpoch #27\t Training Loss: 0.99\tTraining Accuracy: 0.54\tValidation Loss: 0.95\tValidation Accuracy: 0.59\n8/8 [==============================] - 0s 1ms/step - loss: 0.9496 - accuracy: 0.5920\nEpoch #28\t Training Loss: 0.99\tTraining Accuracy: 0.53\tValidation Loss: 0.95\tValidation Accuracy: 0.59\n8/8 [==============================] - 0s 1ms/step - loss: 0.9462 - accuracy: 0.5920\nEpoch #29\t Training Loss: 0.99\tTraining Accuracy: 0.54\tValidation Loss: 0.95\tValidation Accuracy: 0.59\n8/8 [==============================] - 0s 1ms/step - loss: 0.9439 - accuracy: 0.5880\nEpoch #30\t Training Loss: 0.98\tTraining Accuracy: 0.55\tValidation Loss: 0.94\tValidation Accuracy: 0.59\n8/8 [==============================] - 0s 1ms/step - loss: 0.9434 - accuracy: 0.5920\nEpoch #31\t Training Loss: 0.98\tTraining Accuracy: 0.56\tValidation Loss: 0.94\tValidation Accuracy: 0.59\n8/8 [==============================] - 0s 1ms/step - loss: 0.9435 - accuracy: 0.5840\nEpoch #32\t Training Loss: 0.98\tTraining Accuracy: 0.55\tValidation Loss: 0.94\tValidation Accuracy: 0.58\n8/8 [==============================] - 0s 3ms/step - loss: 0.9427 - accuracy: 0.5920\nEpoch #33\t Training Loss: 0.98\tTraining Accuracy: 0.54\tValidation Loss: 0.94\tValidation Accuracy: 0.59\n8/8 [==============================] - 0s 1ms/step - loss: 0.9371 - accuracy: 0.5920\nEpoch #34\t Training Loss: 0.97\tTraining Accuracy: 0.55\tValidation Loss: 0.94\tValidation Accuracy: 0.59\n8/8 [==============================] - 0s 2ms/step - loss: 0.9312 - accuracy: 0.5880\nEpoch #35\t Training Loss: 0.97\tTraining Accuracy: 0.57\tValidation Loss: 0.93\tValidation Accuracy: 0.59\n8/8 [==============================] - 0s 1ms/step - loss: 0.9286 - accuracy: 0.5920\nEpoch #36\t Training Loss: 0.96\tTraining Accuracy: 0.59\tValidation Loss: 0.93\tValidation Accuracy: 0.59\n8/8 [==============================] - 0s 1ms/step - loss: 0.9262 - accuracy: 0.5760\nEpoch #37\t Training Loss: 0.95\tTraining Accuracy: 0.56\tValidation Loss: 0.93\tValidation Accuracy: 0.58\n8/8 [==============================] - 0s 1ms/step - loss: 0.9196 - accuracy: 0.5880\nEpoch #38\t Training Loss: 0.95\tTraining Accuracy: 0.58\tValidation Loss: 0.92\tValidation Accuracy: 0.59\n8/8 [==============================] - 0s 1ms/step - loss: 0.9185 - accuracy: 0.6000\nEpoch #39\t Training Loss: 0.94\tTraining Accuracy: 0.58\tValidation Loss: 0.92\tValidation Accuracy: 0.60\n8/8 [==============================] - 0s 1ms/step - loss: 0.9199 - accuracy: 0.6080\nEpoch #40\t Training Loss: 0.94\tTraining Accuracy: 0.61\tValidation Loss: 0.92\tValidation Accuracy: 0.61\n8/8 [==============================] - 0s 1ms/step - loss: 0.9182 - accuracy: 0.6080\nEpoch #41\t Training Loss: 0.94\tTraining Accuracy: 0.58\tValidation Loss: 0.92\tValidation Accuracy: 0.61\n8/8 [==============================] - 0s 1ms/step - loss: 0.9159 - accuracy: 0.5960\nEpoch #42\t Training Loss: 0.94\tTraining Accuracy: 0.61\tValidation Loss: 0.92\tValidation Accuracy: 0.60\n8/8 [==============================] - 0s 3ms/step - loss: 0.9084 - accuracy: 0.6080\nEpoch #43\t Training Loss: 0.93\tTraining Accuracy: 0.59\tValidation Loss: 0.91\tValidation Accuracy: 0.61\n8/8 [==============================] - 0s 1ms/step - loss: 0.9049 - accuracy: 0.6200\nEpoch #44\t Training Loss: 0.92\tTraining Accuracy: 0.61\tValidation Loss: 0.90\tValidation Accuracy: 0.62\n8/8 [==============================] - 0s 1ms/step - loss: 0.9029 - accuracy: 0.6240\nEpoch #45\t Training Loss: 0.91\tTraining Accuracy: 0.60\tValidation Loss: 0.90\tValidation Accuracy: 0.62\n8/8 [==============================] - 0s 2ms/step - loss: 0.9024 - accuracy: 0.6240\nEpoch #46\t Training Loss: 0.91\tTraining Accuracy: 0.60\tValidation Loss: 0.90\tValidation Accuracy: 0.62\n8/8 [==============================] - 0s 2ms/step - loss: 0.9071 - accuracy: 0.6120\nEpoch #47\t Training Loss: 0.91\tTraining Accuracy: 0.59\tValidation Loss: 0.91\tValidation Accuracy: 0.61\n8/8 [==============================] - 0s 1ms/step - loss: 0.9037 - accuracy: 0.6120\nEpoch #48\t Training Loss: 0.90\tTraining Accuracy: 0.61\tValidation Loss: 0.90\tValidation Accuracy: 0.61\n8/8 [==============================] - 0s 1ms/step - loss: 0.8892 - accuracy: 0.6120\nEpoch #49\t Training Loss: 0.90\tTraining Accuracy: 0.61\tValidation Loss: 0.89\tValidation Accuracy: 0.61\n8/8 [==============================] - 0s 1ms/step - loss: 0.8898 - accuracy: 0.6200\nEpoch #50\t Training Loss: 0.90\tTraining Accuracy: 0.61\tValidation Loss: 0.89\tValidation Accuracy: 0.62\n",
     "output_type": "stream"
    }
   ],
   "execution_count": null
  },
  {
   "cell_type": "markdown",
   "source": "## Check Performance on Test Set\n\nWe can use model.predict to output predicted labels on the test set, or model.evaluate to determine test-set accuracy (since we have the labels)\n",
   "metadata": {
    "id": "OadIT5MEaOJA",
    "colab_type": "text",
    "cell_id": "00016-6d5e477f-1acd-48d5-a5d5-11cf8fcbfe5e",
    "deepnote_cell_type": "markdown"
   }
  },
  {
   "cell_type": "code",
   "metadata": {
    "id": "Mr55MHYhafFa",
    "colab_type": "code",
    "colab": {
     "base_uri": "https://localhost:8080/",
     "height": 34
    },
    "outputId": "201332aa-9aca-4af8-e01f-d9fc101e8642",
    "cell_id": "00017-83ef21b3-c934-4a04-a133-c36b5c1f750c",
    "deepnote_to_be_reexecuted": false,
    "source_hash": "32af229b",
    "execution_start": 1626271977325,
    "execution_millis": 51,
    "deepnote_cell_type": "code"
   },
   "source": "test_loss, test_accuracy = model.evaluate(X_data_test, y_labels_test)",
   "outputs": [
    {
     "name": "stdout",
     "text": "8/8 [==============================] - 0s 1ms/step - loss: 0.9599 - accuracy: 0.6120\n",
     "output_type": "stream"
    }
   ],
   "execution_count": null
  },
  {
   "cell_type": "code",
   "metadata": {
    "tags": [],
    "cell_id": "00018-bee47810-8543-470b-8ccd-d8e1a39cb4d6",
    "deepnote_cell_type": "code"
   },
   "source": "",
   "execution_count": null,
   "outputs": []
  },
  {
   "cell_type": "markdown",
   "source": "<a style='text-decoration:none;line-height:16px;display:flex;color:#5B5B62;padding:10px;justify-content:end;' href='https://deepnote.com?utm_source=created-in-deepnote-cell&projectId=3d82bae0-f509-4ec0-92dc-a9b1bbc77ba9' target=\"_blank\">\n<img alt='Created in deepnote.com' style='display:inline;max-height:16px;margin:0px;margin-right:7.5px;' src='data:image/svg+xml;base64,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' > </img>\nCreated in <span style='font-weight:600;margin-left:4px;'>Deepnote</span></a>",
   "metadata": {
    "tags": [],
    "created_in_deepnote_cell": true,
    "deepnote_cell_type": "markdown"
   }
  }
 ],
 "nbformat": 4,
 "nbformat_minor": 0,
 "metadata": {
  "colab": {
   "name": "NeuralNetworks_Tutorial_part1.ipynb",
   "provenance": [],
   "collapsed_sections": [],
   "include_colab_link": true
  },
  "kernelspec": {
   "name": "python3",
   "display_name": "Python 3"
  },
  "deepnote_notebook_id": "15664693-7858-4663-a43c-9da0c4c020b5",
  "deepnote": {},
  "deepnote_execution_queue": []
 }
}